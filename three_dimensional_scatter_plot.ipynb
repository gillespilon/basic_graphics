{
 "cells": [
  {
   "cell_type": "markdown",
   "metadata": {},
   "source": [
    "# matplotlib 3D scatter plot"
   ]
  },
  {
   "cell_type": "code",
   "execution_count": null,
   "metadata": {},
   "outputs": [],
   "source": [
    "import pandas as pd\n",
    "import matplotlib.pyplot as plt\n",
    "from mpl_toolkits.mplot3d import Axes3D\n",
    "\n",
    "%matplotlib notebook"
   ]
  },
  {
   "cell_type": "code",
   "execution_count": null,
   "metadata": {},
   "outputs": [],
   "source": [
    "def dataframe_create():\n",
    "    data = {'x': [1, 2, 3, 4, 5, 6, 7, 8, 9, 10],\n",
    "            'y': [5, 6, 7, 8, 2, 5, 6, 3, 7, 2],\n",
    "            'z': [1, 2, 6, 3, 2, 7, 3, 3, 7, 2]\n",
    "           }\n",
    "    df = pd.DataFrame(data,columns=['x', 'y','z'])\n",
    "    return df"
   ]
  },
  {
   "cell_type": "code",
   "execution_count": null,
   "metadata": {},
   "outputs": [],
   "source": [
    "def plot_scatter_three_dim(x, y, z):\n",
    "    fig = plt.figure(figsize=(8, 6))\n",
    "    ax = fig.add_subplot(111, projection='3d')\n",
    "    ax.scatter(x, y, z, c='g', marker='o', depthshade=True)\n",
    "    # ax.scatter(x2, y2, z2, c='r', marker='o', depthshade=True)\n",
    "    ax.set_xlabel('x')\n",
    "    ax.set_ylabel('y')\n",
    "    ax.set_zlabel('z')\n",
    "    ax.grid(False)\n",
    "    # ax.xaxis.pane.fill = False\n",
    "    # ax.yaxis.pane.fill = False\n",
    "    # ax.zaxis.pane.fill = False\n",
    "    # ax.xaxis.pane.set_edgecolor('w')\n",
    "    # ax.yaxis.pane.set_edgecolor('w')\n",
    "    # ax.zaxis.pane.set_edgecolor('w')"
   ]
  },
  {
   "cell_type": "code",
   "execution_count": null,
   "metadata": {},
   "outputs": [],
   "source": [
    "x1 = [1, 2, 3, 4, 5, 6, 7, 8, 9, 10]\n",
    "y1 = [5, 6, 7, 8, 2, 5, 6, 3, 7, 2]\n",
    "z1 = [1, 2, 6, 3, 2, 7, 3, 3, 7, 2]"
   ]
  },
  {
   "cell_type": "code",
   "execution_count": null,
   "metadata": {},
   "outputs": [],
   "source": [
    "if __name__ == '__main__':\n",
    "    plot_scatter_three_dim(x1, y1, z1)"
   ]
  },
  {
   "cell_type": "markdown",
   "metadata": {},
   "source": [
    "# To do\n",
    "\n",
    "- Change def plot_scatter_three_dim to work with dataframes instead of 3 inputs\n",
    "- Try pyplot-themes"
   ]
  },
  {
   "cell_type": "markdown",
   "metadata": {},
   "source": [
    "# References\n",
    "\n",
    "- [matplotlib.pyplot](https://matplotlib.org/3.1.1/api/_as_gen/matplotlib.pyplot.html)\n",
    "\n",
    "- [mplot3d API](https://matplotlib.org/3.1.1/api/toolkits/mplot3d.html#module-mpl_toolkits.mplot3d)\n",
    "\n",
    "- [pyplot-themes](https://github.com/raybuhr/pyplot-themes)"
   ]
  }
 ],
 "metadata": {
  "kernelspec": {
   "display_name": "Python 3",
   "language": "python",
   "name": "python3"
  },
  "language_info": {
   "codemirror_mode": {
    "name": "ipython",
    "version": 3
   },
   "file_extension": ".py",
   "mimetype": "text/x-python",
   "name": "python",
   "nbconvert_exporter": "python",
   "pygments_lexer": "ipython3",
   "version": "3.7.4"
  },
  "varInspector": {
   "cols": {
    "lenName": 16,
    "lenType": 16,
    "lenVar": 40
   },
   "kernels_config": {
    "python": {
     "delete_cmd_postfix": "",
     "delete_cmd_prefix": "del ",
     "library": "var_list.py",
     "varRefreshCmd": "print(var_dic_list())"
    },
    "r": {
     "delete_cmd_postfix": ") ",
     "delete_cmd_prefix": "rm(",
     "library": "var_list.r",
     "varRefreshCmd": "cat(var_dic_list()) "
    }
   },
   "types_to_exclude": [
    "module",
    "function",
    "builtin_function_or_method",
    "instance",
    "_Feature"
   ],
   "window_display": false
  }
 },
 "nbformat": 4,
 "nbformat_minor": 2
}
