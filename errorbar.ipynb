{
 "cells": [
  {
   "cell_type": "markdown",
   "metadata": {},
   "source": [
    "\n",
    "# Errorbar function\n",
    "\n",
    "\n",
    "This exhibits the most basic use of the error bar method.\n",
    "In this case, constant values are provided for the error\n",
    "in both the x- and y-directions.\n"
   ]
  },
  {
   "cell_type": "code",
   "execution_count": 1,
   "metadata": {},
   "outputs": [],
   "source": [
    "import time"
   ]
  },
  {
   "cell_type": "code",
   "execution_count": 2,
   "metadata": {},
   "outputs": [],
   "source": [
    "import matplotlib.pyplot as plt\n",
    "import datasense as ds\n",
    "import numpy as np"
   ]
  },
  {
   "cell_type": "code",
   "execution_count": 3,
   "metadata": {},
   "outputs": [],
   "source": [
    "start_time = time.time()"
   ]
  },
  {
   "cell_type": "code",
   "execution_count": 4,
   "metadata": {},
   "outputs": [],
   "source": [
    "%matplotlib inline\n",
    "figsize = (8, 4.5)\n",
    "output_url = 'risk_survey.html'\n",
    "header_title = 'risk_survey'\n",
    "header_id = 'risk-survey'\n",
    "graph_file_name = 'risk_survey_question'"
   ]
  },
  {
   "cell_type": "code",
   "execution_count": 5,
   "metadata": {},
   "outputs": [],
   "source": [
    "questions = [\n",
    "    'Business continuity plan',\n",
    "    'Updated annually',\n",
    "    'Back-up generator',\n",
    "    'Electronic storage',\n",
    "    'Daily off-site backup',\n",
    "    'Encrypted data',\n",
    "    'Breach or near-breach',\n",
    "    'Require suppliers business continuity plan',\n",
    "    'Multiple suppliers & sources qualified',\n",
    "    'Leadership change',\n",
    "    'Covid-19 government loans',\n",
    "    'Concern about repaying on time',\n",
    "    'Percentage Molex business',\n",
    "    'Lawsuits or liens',\n",
    "    'Reductions and restructuring',\n",
    "    'Facility control',\n",
    "    'Security 24-7',\n",
    "    'CCTV 24-7',\n",
    "    'Sprinkler or fire suppression',\n",
    "    'Limit visitors',\n",
    "    'Open capacity',\n",
    "    'Cross-trained',\n",
    "    'Disaster recovery define process',\n",
    "    'Additional capacity'\n",
    "]\n",
    "question_numbers = [\n",
    "    1.0, 1.1, 1.2, 1.3, 1.4, 1.5, 1.6,\n",
    "    2.0, 2.1,\n",
    "    3.0, 3.11, 3.12, 3.2, 3.3, 3.4,\n",
    "    4.0, 4.1, 4.2,\n",
    "    5.0, 5.1,\n",
    "    6.0, 6.1, 6.2, 6.3\n",
    "]"
   ]
  },
  {
   "cell_type": "code",
   "execution_count": 6,
   "metadata": {},
   "outputs": [],
   "source": [
    "original_stdout = ds.html_begin(\n",
    "    output_url=output_url,\n",
    "    header_title=header_title,\n",
    "    header_id=header_id\n",
    ")\n",
    "print('<pre style=\"white-space: pre-wrap;\">')\n",
    "print('This report is a mock-up.')\n",
    "ds.page_break()"
   ]
  },
  {
   "cell_type": "code",
   "execution_count": 7,
   "metadata": {},
   "outputs": [],
   "source": [
    "for question, question_number in zip(questions, question_numbers):\n",
    "    y = ds.random_data(\n",
    "        distribution='randint',\n",
    "        size=2000,\n",
    "        low=1,\n",
    "        high=3,\n",
    "        scale=1\n",
    "    )\n",
    "    no = y.value_counts('1')[1]\n",
    "    yes = y.value_counts(['2'])[2]\n",
    "    fig = plt.figure(figsize=figsize)\n",
    "    ax = fig.add_subplot(111)\n",
    "    ax.errorbar(['1', '2'], [no, yes], yerr=0.1, ls='None', marker='o', color='b', ecolor='r', markersize=8)\n",
    "    ax.set_xlim(-1, 2)\n",
    "    ax.set_ylim(0, 1)\n",
    "    ax.set_xlabel(xlabel='Answer', fontweight='bold', fontsize=12)\n",
    "    ax.set_ylabel(ylabel='Proportion', fontweight='bold', fontsize=12)\n",
    "    ax.set_xticks(['1', '2'])\n",
    "    ax.set_xticklabels(['no', 'yes'])\n",
    "    fig.suptitle(t=f'Question {question_number}\\n{question}', fontweight='bold', fontsize=15)\n",
    "    for item, x, y in zip([y.value_counts()[1], y.value_counts()[2]], ['1', '2'], [no, yes]):\n",
    "        ax.annotate(\n",
    "            text=item,\n",
    "            xy=(x, y),\n",
    "            xytext=(10, 0),\n",
    "            textcoords=\"offset points\"\n",
    "        )\n",
    "    ds.despine(ax)\n",
    "    fig.savefig(f'{graph_file_name}_{question_number}.svg', format='svg')\n",
    "    print(\n",
    "        f'<p><img src=\"{graph_file_name}_'\n",
    "        f'{question_number}.svg\"/></p>'\n",
    "    )\n",
    "    plt.close()"
   ]
  },
  {
   "cell_type": "code",
   "execution_count": 8,
   "metadata": {
    "scrolled": false
   },
   "outputs": [],
   "source": [
    "stop_time = time.time()\n",
    "ds.page_break()\n",
    "ds.report_summary(\n",
    "    start_time=start_time,\n",
    "    stop_time=stop_time\n",
    ")\n",
    "print('</pre>')\n",
    "ds.html_end(\n",
    "    original_stdout=original_stdout,\n",
    "    output_url=output_url\n",
    ")"
   ]
  }
 ],
 "metadata": {
  "kernelspec": {
   "display_name": "Python 3",
   "language": "python",
   "name": "python3"
  },
  "language_info": {
   "codemirror_mode": {
    "name": "ipython",
    "version": 3
   },
   "file_extension": ".py",
   "mimetype": "text/x-python",
   "name": "python",
   "nbconvert_exporter": "python",
   "pygments_lexer": "ipython3",
   "version": "3.8.6"
  }
 },
 "nbformat": 4,
 "nbformat_minor": 1
}
