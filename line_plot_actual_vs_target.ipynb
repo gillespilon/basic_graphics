{
 "cells": [
  {
   "cell_type": "markdown",
   "metadata": {},
   "source": [
    "# Line plot, performance to target"
   ]
  },
  {
   "cell_type": "markdown",
   "metadata": {},
   "source": [
    "# Document information"
   ]
  },
  {
   "cell_type": "markdown",
   "metadata": {},
   "source": [
    "<table align=\"left\">\n",
    "    <tr>\n",
    "        <th class=\"text-align:left\">Title</th>\n",
    "        <td class=\"text-align:left\">Line plot, performance to target</td>\n",
    "    </tr>\n",
    "    <tr>\n",
    "        <th class=\"text-align:left\">Last modified</th>\n",
    "        <td class=\"text-align:left\">2091-01-25</td>\n",
    "    </tr>\n",
    "    <tr>\n",
    "        <th class=\"text-align:left\">Author</th>\n",
    "        <td class=\"text-align:left\">Gilles Pilon <gillespilon13@gmail.com></td>\n",
    "    </tr>\n",
    "    <tr>\n",
    "        <th class=\"text-align:left\">Status</th>\n",
    "        <td class=\"text-align:left\">Active</td>\n",
    "    </tr>\n",
    "    <tr>\n",
    "        <th class=\"text-align:left\">Type</th>\n",
    "        <td class=\"text-align:left\">Jupyter notebook</td>\n",
    "    </tr>\n",
    "    <tr>\n",
    "        <th class=\"text-align:left\">Created</th>\n",
    "        <td class=\"text-align:left\">2019-01-24</td>\n",
    "    </tr>\n",
    "    <tr>\n",
    "        <th class=\"text-align:left\">File name</th>\n",
    "        <td class=\"text-align:left\">line_plot_actual_vs_target.ipynb</td>\n",
    "    </tr>\n",
    "    <tr>\n",
    "        <th class=\"text-align:left\">Other files required</th>\n",
    "        <td class=\"text-align:left\">actual_vs_target.csv</td>\n",
    "    </tr>\n",
    "</table>"
   ]
  },
  {
   "cell_type": "markdown",
   "metadata": {},
   "source": [
    "# Introduction\n",
    "\n",
    "This notebook plots:\n",
    "\n",
    "- Target value vs month of the year, as a line\n",
    "- Actual value vs month of the year, as dots"
   ]
  },
  {
   "cell_type": "code",
   "execution_count": 1,
   "metadata": {},
   "outputs": [],
   "source": [
    "import pandas as pd\n",
    "import matplotlib.cm as cm\n",
    "colour_1, colour_2, colour_3, colour_4, *_ = cm.Paired.colors\n",
    "import matplotlib.axes as axes\n",
    "import matplotlib.pyplot as plt\n",
    "%matplotlib inline"
   ]
  },
  {
   "cell_type": "code",
   "execution_count": 2,
   "metadata": {},
   "outputs": [],
   "source": [
    "def despine(ax: axes.Axes) -> None:\n",
    "    'Remove the top and right spines of a graph'\n",
    "    for spine in 'right', 'top':\n",
    "        ax.spines[spine].set_color('none')"
   ]
  },
  {
   "cell_type": "code",
   "execution_count": 3,
   "metadata": {},
   "outputs": [],
   "source": [
    "df = pd.read_csv('actual_vs_target.csv')"
   ]
  },
  {
   "cell_type": "code",
   "execution_count": 4,
   "metadata": {},
   "outputs": [
    {
     "data": {
      "text/html": [
       "<div>\n",
       "<style scoped>\n",
       "    .dataframe tbody tr th:only-of-type {\n",
       "        vertical-align: middle;\n",
       "    }\n",
       "\n",
       "    .dataframe tbody tr th {\n",
       "        vertical-align: top;\n",
       "    }\n",
       "\n",
       "    .dataframe thead th {\n",
       "        text-align: right;\n",
       "    }\n",
       "</style>\n",
       "<table border=\"1\" class=\"dataframe\">\n",
       "  <thead>\n",
       "    <tr style=\"text-align: right;\">\n",
       "      <th></th>\n",
       "      <th>Date</th>\n",
       "      <th>Target</th>\n",
       "      <th>Actual</th>\n",
       "    </tr>\n",
       "  </thead>\n",
       "  <tbody>\n",
       "    <tr>\n",
       "      <th>0</th>\n",
       "      <td>2019-01-31</td>\n",
       "      <td>10000</td>\n",
       "      <td>10000.0</td>\n",
       "    </tr>\n",
       "    <tr>\n",
       "      <th>1</th>\n",
       "      <td>2019-02-28</td>\n",
       "      <td>11500</td>\n",
       "      <td>NaN</td>\n",
       "    </tr>\n",
       "    <tr>\n",
       "      <th>2</th>\n",
       "      <td>2019-03-31</td>\n",
       "      <td>13000</td>\n",
       "      <td>NaN</td>\n",
       "    </tr>\n",
       "    <tr>\n",
       "      <th>3</th>\n",
       "      <td>2019-04-30</td>\n",
       "      <td>14500</td>\n",
       "      <td>NaN</td>\n",
       "    </tr>\n",
       "    <tr>\n",
       "      <th>4</th>\n",
       "      <td>2019-05-31</td>\n",
       "      <td>16000</td>\n",
       "      <td>NaN</td>\n",
       "    </tr>\n",
       "  </tbody>\n",
       "</table>\n",
       "</div>"
      ],
      "text/plain": [
       "         Date  Target   Actual\n",
       "0  2019-01-31   10000  10000.0\n",
       "1  2019-02-28   11500      NaN\n",
       "2  2019-03-31   13000      NaN\n",
       "3  2019-04-30   14500      NaN\n",
       "4  2019-05-31   16000      NaN"
      ]
     },
     "execution_count": 4,
     "metadata": {},
     "output_type": "execute_result"
    }
   ],
   "source": [
    "df.head()"
   ]
  },
  {
   "cell_type": "code",
   "execution_count": 5,
   "metadata": {},
   "outputs": [
    {
     "data": {
      "image/png": "[encoded data removed]",
      "text/plain": [
       "<Figure size 432x288 with 1 Axes>"
      ]
     },
     "metadata": {},
     "output_type": "display_data"
    }
   ],
   "source": [
    "ax = df.plot.line(x='Date',\n",
    "                  y='Target',\n",
    "                  legend=False,\n",
    "#                  style='.',\n",
    "                  color=colour_1)\n",
    "df.plot.line(x='Date',\n",
    "             y='Actual',\n",
    "             legend=False,\n",
    "             style='.',\n",
    "             color=colour_2,\n",
    "             ax=ax)\n",
    "ax.set_xlabel('Date', fontweight='bold')\n",
    "ax.set_ylabel('$', fontweight='bold')\n",
    "ax.autoscale(enable=True)\n",
    "ax.set_title('Scatter Plot of Target vs Actual',\n",
    "             fontweight='bold')\n",
    "despine(ax)"
   ]
  },
  {
   "cell_type": "code",
   "execution_count": 6,
   "metadata": {},
   "outputs": [],
   "source": [
    "ax.figure.savefig('target_vs_actual.svg',\n",
    "                  format='svg')"
   ]
  }
 ],
 "metadata": {
  "kernelspec": {
   "display_name": "Python 3",
   "language": "python",
   "name": "python3"
  },
  "language_info": {
   "codemirror_mode": {
    "name": "ipython",
    "version": 3
   },
   "file_extension": ".py",
   "mimetype": "text/x-python",
   "name": "python",
   "nbconvert_exporter": "python",
   "pygments_lexer": "ipython3",
   "version": "3.6.6"
  }
 },
 "nbformat": 4,
 "nbformat_minor": 2
}
