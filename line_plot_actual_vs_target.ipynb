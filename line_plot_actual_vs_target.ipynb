{
 "cells": [
  {
   "cell_type": "markdown",
   "metadata": {},
   "source": [
    "# Actual vs Target Line Plots"
   ]
  },
  {
   "cell_type": "markdown",
   "metadata": {},
   "source": [
    "# Document information"
   ]
  },
  {
   "cell_type": "markdown",
   "metadata": {},
   "source": [
    "## Work to do\n",
    "\n",
    "- Regression line using non-patsy formulae\n",
    "- Confidence interval\n",
    "- Prediction interval"
   ]
  },
  {
   "cell_type": "markdown",
   "metadata": {},
   "source": [
    "<table align=\"left\">\n",
    "    <tr>\n",
    "        <th class=\"text-align:left\">Title</th>\n",
    "        <td class=\"text-align:left\">Line plot, performance to target</td>\n",
    "    </tr>\n",
    "    <tr>\n",
    "        <th class=\"text-align:left\">Last modified</th>\n",
    "        <td class=\"text-align:left\">2020-02-25</td>\n",
    "    </tr>\n",
    "    <tr>\n",
    "        <th class=\"text-align:left\">Author</th>\n",
    "        <td class=\"text-align:left\">Gilles Pilon <gillespilon13@gmail.com></td>\n",
    "    </tr>\n",
    "    <tr>\n",
    "        <th class=\"text-align:left\">Status</th>\n",
    "        <td class=\"text-align:left\">Active</td>\n",
    "    </tr>\n",
    "    <tr>\n",
    "        <th class=\"text-align:left\">Type</th>\n",
    "        <td class=\"text-align:left\">Jupyter notebook</td>\n",
    "    </tr>\n",
    "    <tr>\n",
    "        <th class=\"text-align:left\">Created</th>\n",
    "        <td class=\"text-align:left\">2019-01-24</td>\n",
    "    </tr>\n",
    "    <tr>\n",
    "        <th class=\"text-align:left\">File name</th>\n",
    "        <td class=\"text-align:left\">line_plot_actual_vs_target.ipynb</td>\n",
    "    </tr>\n",
    "    <tr>\n",
    "        <th class=\"text-align:left\">Other files required</th>\n",
    "        <td class=\"text-align:left\">actual_vs_target.csv</td>\n",
    "    </tr>\n",
    "</table>"
   ]
  },
  {
   "cell_type": "markdown",
   "metadata": {},
   "source": [
    "# Introduction\n",
    "\n",
    "This notebook plots:\n",
    "\n",
    "- Line plot of target value (y) versus date (x)\n",
    "- Line plot of actual value (y) versus date (x)\n",
    "- Line plot of predicted value (y) versus date (x) using linear regression"
   ]
  },
  {
   "cell_type": "code",
   "execution_count": 1,
   "metadata": {},
   "outputs": [],
   "source": [
    "import numpy as np\n",
    "import pandas as pd\n",
    "import matplotlib\n",
    "import matplotlib.axes as axes\n",
    "import matplotlib.cm as cm\n",
    "import matplotlib.pyplot as plt\n",
    "import statsmodels.api as sm\n",
    "from matplotlib.dates import DateFormatter, MonthLocator\n",
    "from matplotlib.ticker import NullFormatter, NullLocator"
   ]
  },
  {
   "cell_type": "code",
   "execution_count": 2,
   "metadata": {},
   "outputs": [],
   "source": [
    "c = cm.Paired.colors\n",
    "%matplotlib inline\n",
    "%config InlineBacken.figure_format = 'svg'"
   ]
  },
  {
   "cell_type": "code",
   "execution_count": 3,
   "metadata": {},
   "outputs": [],
   "source": [
    "def main():\n",
    "    data = pd.read_excel('actual_vs_target.ods',\n",
    "                         engine='odf',\n",
    "                         parse_dates=['Date'])\n",
    "    x_axis_label, y_axis_label, axis_title = \\\n",
    "        ('Date', 'USD', 'Savings Target vs Actual')\n",
    "    data = regression(data)\n",
    "    ax = plot_three_lines(data, axis_title,\n",
    "                          x_axis_label, y_axis_label)\n",
    "    despine(ax)\n",
    "    ax.figure.savefig('actual_vs_target.svg', format='svg')\n",
    "    ax.figure.savefig('actual_vs_target.png', format='png')"
   ]
  },
  {
   "cell_type": "code",
   "execution_count": 4,
   "metadata": {},
   "outputs": [],
   "source": [
    "def despine(ax: axes.Axes) -> None:\n",
    "    '''\n",
    "    Remove the top and right spines of a graph.\n",
    "\n",
    "    There is only one x axis, on the bottom, and one y axis, on the left.\n",
    "    '''\n",
    "    for spine in 'right', 'top':\n",
    "        ax.spines[spine].set_visible(False)"
   ]
  },
  {
   "cell_type": "code",
   "execution_count": 5,
   "metadata": {},
   "outputs": [],
   "source": [
    "def plot_three_lines(data, axis_title, x_axis_label, y_axis_label):\n",
    "    figure_width_height = (8, 6)\n",
    "    fig = plt.figure(figsize=figure_width_height)\n",
    "    ax = fig.add_subplot(111)\n",
    "    ax.plot(data['Date'], data['TargetBalance'], label='TargetBalance',\n",
    "            linestyle='-', color=c[0])\n",
    "    ax.plot(data['Date'], data['ActualBalance'], label='ActualBalance',\n",
    "            linestyle='-', color=c[1], marker='.')\n",
    "    ax.plot(data['Date'], data['Predicted'], label='Predicted',\n",
    "            linestyle='-', color=c[2])\n",
    "    ax.set_title(axis_title, fontweight='bold')\n",
    "    ax.set_xlabel(x_axis_label, fontweight='bold')\n",
    "    ax.set_ylabel(y_axis_label, fontweight='bold')\n",
    "    # for row, text in enumerate(data['Annotation']):\n",
    "    #     ax.annotate(text, (data['Date'][row],\n",
    "    #                        data['ActualBalance'][row]),\n",
    "    #                 xytext=(20, 0),\n",
    "    #                 textcoords='offset points',\n",
    "    #                 arrowprops=dict(arrowstyle=\"->\"))\n",
    "    ax.xaxis.set_major_locator(MonthLocator())\n",
    "    ax.xaxis.set_minor_locator(NullLocator())\n",
    "    ax.xaxis.set_major_formatter(DateFormatter('%m'))\n",
    "    ax.xaxis.set_minor_formatter(NullFormatter())\n",
    "    ax.legend(frameon=False)\n",
    "    return ax"
   ]
  },
  {
   "cell_type": "code",
   "execution_count": 6,
   "metadata": {},
   "outputs": [],
   "source": [
    "def regression(data: pd.DataFrame) -> pd.DataFrame:\n",
    "    '''\n",
    "    Estimate a linear regression line\n",
    "    Y is a float\n",
    "    X is a datetime64ns\n",
    "    Convert X to a float with first value set to 0 number of days between\n",
    "    subsequent values\n",
    "    '''\n",
    "    data['DateDelta'] = (data['Date'] - data['Date']\n",
    "                         .min())/np.timedelta64(1, 'D')\n",
    "    model = sm.OLS(data['ActualBalance'], sm.add_constant(data['DateDelta']),\n",
    "                   missing='drop').fit()\n",
    "    data['Predicted'] = model.fittedvalues\n",
    "    return data"
   ]
  },
  {
   "cell_type": "code",
   "execution_count": 7,
   "metadata": {
    "scrolled": false
   },
   "outputs": [
    {
     "data": {
      "image/png": "[encoded data removed]",
      "text/plain": [
       "<Figure size 576x432 with 1 Axes>"
      ]
     },
     "metadata": {
      "needs_background": "light"
     },
     "output_type": "display_data"
    }
   ],
   "source": [
    "if __name__ == '__main__':\n",
    "    main()"
   ]
  }
 ],
 "metadata": {
  "kernelspec": {
   "display_name": "Python 3",
   "language": "python",
   "name": "python3"
  },
  "language_info": {
   "codemirror_mode": {
    "name": "ipython",
    "version": 3
   },
   "file_extension": ".py",
   "mimetype": "text/x-python",
   "name": "python",
   "nbconvert_exporter": "python",
   "pygments_lexer": "ipython3",
   "version": "3.8.1"
  },
  "varInspector": {
   "cols": {
    "lenName": 16,
    "lenType": 16,
    "lenVar": 40
   },
   "kernels_config": {
    "python": {
     "delete_cmd_postfix": "",
     "delete_cmd_prefix": "del ",
     "library": "var_list.py",
     "varRefreshCmd": "print(var_dic_list())"
    },
    "r": {
     "delete_cmd_postfix": ") ",
     "delete_cmd_prefix": "rm(",
     "library": "var_list.r",
     "varRefreshCmd": "cat(var_dic_list()) "
    }
   },
   "types_to_exclude": [
    "module",
    "function",
    "builtin_function_or_method",
    "instance",
    "_Feature"
   ],
   "window_display": false
  }
 },
 "nbformat": 4,
 "nbformat_minor": 2
}
