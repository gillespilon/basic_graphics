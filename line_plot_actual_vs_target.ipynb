{
 "cells": [
  {
   "cell_type": "markdown",
   "metadata": {},
   "source": [
    "# Actual vs Target Line Plots"
   ]
  },
  {
   "cell_type": "markdown",
   "metadata": {},
   "source": [
    "# Document information"
   ]
  },
  {
   "cell_type": "markdown",
   "metadata": {},
   "source": [
    "## Work to do\n",
    "\n",
    "- Regression line\n",
    "- Confidence interval\n",
    "- Prediction interval"
   ]
  },
  {
   "cell_type": "markdown",
   "metadata": {},
   "source": [
    "<table align=\"left\">\n",
    "    <tr>\n",
    "        <th class=\"text-align:left\">Title</th>\n",
    "        <td class=\"text-align:left\">Line plot, performance to target</td>\n",
    "    </tr>\n",
    "    <tr>\n",
    "        <th class=\"text-align:left\">Last modified</th>\n",
    "        <td class=\"text-align:left\">2020-01-17</td>\n",
    "    </tr>\n",
    "    <tr>\n",
    "        <th class=\"text-align:left\">Author</th>\n",
    "        <td class=\"text-align:left\">Gilles Pilon <gillespilon13@gmail.com></td>\n",
    "    </tr>\n",
    "    <tr>\n",
    "        <th class=\"text-align:left\">Status</th>\n",
    "        <td class=\"text-align:left\">Active</td>\n",
    "    </tr>\n",
    "    <tr>\n",
    "        <th class=\"text-align:left\">Type</th>\n",
    "        <td class=\"text-align:left\">Jupyter notebook</td>\n",
    "    </tr>\n",
    "    <tr>\n",
    "        <th class=\"text-align:left\">Created</th>\n",
    "        <td class=\"text-align:left\">2019-01-24</td>\n",
    "    </tr>\n",
    "    <tr>\n",
    "        <th class=\"text-align:left\">File name</th>\n",
    "        <td class=\"text-align:left\">line_plot_actual_vs_target.ipynb</td>\n",
    "    </tr>\n",
    "    <tr>\n",
    "        <th class=\"text-align:left\">Other files required</th>\n",
    "        <td class=\"text-align:left\">actual_vs_target.csv</td>\n",
    "    </tr>\n",
    "</table>"
   ]
  },
  {
   "cell_type": "markdown",
   "metadata": {},
   "source": [
    "# Introduction\n",
    "\n",
    "This notebook plots:\n",
    "\n",
    "- Target value vs month of the year, as a line\n",
    "- Actual value vs month of the year, as dots"
   ]
  },
  {
   "cell_type": "code",
   "execution_count": 1,
   "metadata": {},
   "outputs": [],
   "source": [
    "import pandas as pd\n",
    "import matplotlib\n",
    "import matplotlib.axes as axes\n",
    "import matplotlib.cm as cm\n",
    "import matplotlib.pyplot as plt\n",
    "import statsmodels.formula.api as smf\n",
    "import statsmodels.regression.linear_model\n",
    "from matplotlib.dates import DateFormatter, MonthLocator\n",
    "from matplotlib.ticker import NullFormatter, NullLocator\n",
    "from typing import Tuple"
   ]
  },
  {
   "cell_type": "code",
   "execution_count": 2,
   "metadata": {},
   "outputs": [],
   "source": [
    "matplotlib.use('Cairo')\n",
    "c = cm.Paired.colors\n",
    "pd.plotting.register_matplotlib_converters(explicit=True)\n",
    "%matplotlib inline\n",
    "%config InlineBacken.figure_format = 'svg'"
   ]
  },
  {
   "cell_type": "code",
   "execution_count": 3,
   "metadata": {},
   "outputs": [],
   "source": [
    "def main():\n",
    "    data = pd.read_csv('actual_vs_target.csv', parse_dates=['Date'])\n",
    "    x_axis_label, y_axis_label, axis_title = ('Date', 'USD',\n",
    "                                              'Savings Target vs Actual')\n",
    "    data, results, gregorian_predicted = regression(data)\n",
    "    ax = plot_three_lines(data, axis_title, x_axis_label, y_axis_label)\n",
    "    despine(ax)\n",
    "    ax.figure.savefig('actual_vs_target.svg', format='svg')\n",
    "    ax.figure.savefig('actual_vs_target.png', format='png')"
   ]
  },
  {
   "cell_type": "code",
   "execution_count": 4,
   "metadata": {},
   "outputs": [],
   "source": [
    "def despine(ax: axes.Axes) -> None:\n",
    "    '''\n",
    "    Remove the top and right spines of a graph.\n",
    "\n",
    "    There is only one x axis, on the bottom, and one y axis, on the left.\n",
    "    '''\n",
    "    for spine in 'right', 'top':\n",
    "        ax.spines[spine].set_visible(False)"
   ]
  },
  {
   "cell_type": "code",
   "execution_count": 5,
   "metadata": {},
   "outputs": [],
   "source": [
    "def plot_three_lines(data, axis_title, x_axis_label, y_axis_label):\n",
    "    figure_width_height = (8, 6)\n",
    "    fig = plt.figure(figsize=figure_width_height)\n",
    "    ax = fig.add_subplot(111)\n",
    "    ax.plot(data['Date'], data['Target'], label='Target',\n",
    "            linestyle='-', color=c[0])\n",
    "    ax.plot(data['Date'], data['Actual'], label='Actual', marker='o',\n",
    "            linestyle='-', color=c[1])\n",
    "    ax.plot(data['Date'], data['Predicted'], label='Predicted',\n",
    "            linestyle='-', color=c[2])\n",
    "    ax.set_title(axis_title, fontweight='bold')\n",
    "    ax.set_xlabel(x_axis_label, fontweight='bold')\n",
    "    ax.set_ylabel(y_axis_label, fontweight='bold')\n",
    "    ax.xaxis.set_major_locator(MonthLocator())\n",
    "    ax.xaxis.set_minor_locator(NullLocator())\n",
    "    ax.xaxis.set_major_formatter(DateFormatter('%y-%m'))\n",
    "    ax.xaxis.set_minor_formatter(NullFormatter())\n",
    "    ax.legend(frameon=False)\n",
    "    return ax"
   ]
  },
  {
   "cell_type": "code",
   "execution_count": 6,
   "metadata": {},
   "outputs": [],
   "source": [
    "def regression(data: pd.DataFrame) ->\\\n",
    "    Tuple[pd.DataFrame,\n",
    "          statsmodels.regression.linear_model.RegressionResultsWrapper,\n",
    "          str]:\n",
    "    '''\n",
    "    Estimate a linear regression line\n",
    "    Y is a float\n",
    "    Convert X to a Julian date\n",
    "    '''\n",
    "    data = data.set_index('Date', append=False)\n",
    "    data['Julian'] = data.index.to_julian_date()\n",
    "    data = data.reset_index()\n",
    "    results = smf.ols(formula='Actual ~ Julian',\n",
    "                      data=data).fit()\n",
    "    parameters = results.params\n",
    "    julian_predicted = (3.0 - parameters[0])/parameters[1]\n",
    "    gregorian_predicted = pd.to_datetime(julian_predicted,\n",
    "                                         unit='D',\n",
    "                                         origin='julian').strftime('%Y-%m-%d')\n",
    "    data['Predicted'] = results.predict(data['Julian'])\n",
    "    data = data.drop(columns='Julian')\n",
    "    return data, results, gregorian_predicted"
   ]
  },
  {
   "cell_type": "code",
   "execution_count": 7,
   "metadata": {},
   "outputs": [
    {
     "data": {
      "image/png": "[encoded data removed]",
      "text/plain": [
       "<Figure size 576x432 with 1 Axes>"
      ]
     },
     "metadata": {
      "needs_background": "light"
     },
     "output_type": "display_data"
    }
   ],
   "source": [
    "if __name__ == '__main__':\n",
    "    main()"
   ]
  }
 ],
 "metadata": {
  "kernelspec": {
   "display_name": "Python 3",
   "language": "python",
   "name": "python3"
  },
  "language_info": {
   "codemirror_mode": {
    "name": "ipython",
    "version": 3
   },
   "file_extension": ".py",
   "mimetype": "text/x-python",
   "name": "python",
   "nbconvert_exporter": "python",
   "pygments_lexer": "ipython3",
   "version": "3.8.1"
  },
  "varInspector": {
   "cols": {
    "lenName": 16,
    "lenType": 16,
    "lenVar": 40
   },
   "kernels_config": {
    "python": {
     "delete_cmd_postfix": "",
     "delete_cmd_prefix": "del ",
     "library": "var_list.py",
     "varRefreshCmd": "print(var_dic_list())"
    },
    "r": {
     "delete_cmd_postfix": ") ",
     "delete_cmd_prefix": "rm(",
     "library": "var_list.r",
     "varRefreshCmd": "cat(var_dic_list()) "
    }
   },
   "types_to_exclude": [
    "module",
    "function",
    "builtin_function_or_method",
    "instance",
    "_Feature"
   ],
   "window_display": false
  }
 },
 "nbformat": 4,
 "nbformat_minor": 2
}
