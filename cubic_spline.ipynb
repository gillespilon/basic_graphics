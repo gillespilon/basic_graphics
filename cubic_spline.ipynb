{
 "cells": [
  {
   "cell_type": "code",
   "execution_count": 1,
   "metadata": {},
   "outputs": [
    {
     "data": {
      "text/plain": [
       "\"\\nCubic spline plot\\n\\nThis script has several functions:\\n\\n- Estimate a cubic spline for one X and one Y\\n- Plot the raw data as a scatter plot\\n- Plot the cubic spline as a line plot\\n\\nSpecific to Linux:\\ntime -f '%e' ./cubic_spline.py\\n./cubic_spline.py\\n\""
      ]
     },
     "execution_count": 1,
     "metadata": {},
     "output_type": "execute_result"
    }
   ],
   "source": [
    "'''\n",
    "Cubic spline plot\n",
    "\n",
    "This script has several functions:\n",
    "\n",
    "- Estimate a cubic spline for one X and one Y\n",
    "- Plot the raw data as a scatter plot\n",
    "- Plot the cubic spline as a line plot\n",
    "\n",
    "Specific to Linux:\n",
    "time -f '%e' ./cubic_spline.py\n",
    "./cubic_spline.py\n",
    "'''"
   ]
  },
  {
   "cell_type": "code",
   "execution_count": 2,
   "metadata": {},
   "outputs": [
    {
     "data": {
      "text/plain": [
       "\"\\nCubic spline plot\\n\\nThis script has several functions:\\n\\n- Estimate a cubic spline for one X and one Y\\n- Plot the raw data as a scatter plot\\n- Plot the cubic spline as a line plot\\n\\nSpecific to Linux:\\ntime -f '%e' ./cubic_spline.py\\n./cubic_spline.py\\n\""
      ]
     },
     "execution_count": 2,
     "metadata": {},
     "output_type": "execute_result"
    }
   ],
   "source": [
    "#! /usr/bin/env python3\n",
    "\n",
    "'''\n",
    "Cubic spline plot\n",
    "\n",
    "This script has several functions:\n",
    "\n",
    "- Estimate a cubic spline for one X and one Y\n",
    "- Plot the raw data as a scatter plot\n",
    "- Plot the cubic spline as a line plot\n",
    "\n",
    "Specific to Linux:\n",
    "time -f '%e' ./cubic_spline.py\n",
    "./cubic_spline.py\n",
    "'''"
   ]
  },
  {
   "cell_type": "code",
   "execution_count": 3,
   "metadata": {},
   "outputs": [],
   "source": [
    "import numpy as np\n",
    "import matplotlib.axes as axes\n",
    "import matplotlib.cm as cm\n",
    "import matplotlib.pyplot as plt\n",
    "import pandas as pd\n",
    "from scipy.interpolate import CubicSpline as cs"
   ]
  },
  {
   "cell_type": "code",
   "execution_count": 4,
   "metadata": {},
   "outputs": [],
   "source": [
    "c = cm.Paired.colors"
   ]
  },
  {
   "cell_type": "code",
   "execution_count": 5,
   "metadata": {},
   "outputs": [],
   "source": [
    "def main():\n",
    "    x_axis_label, y_axis_label, axis_title, graph_file_name = (\n",
    "        'Independent value',\n",
    "        'Dependent value',\n",
    "        'Cubic Spline',\n",
    "        'cubic_spline.svg'\n",
    "    )\n",
    "    raw_data_x_values, raw_data_y_values = read_data_file()\n",
    "    spline_data_x_values, spline_data_y_values = estimate_cubic_spline(\n",
    "            raw_data_x_values,\n",
    "            raw_data_y_values\n",
    "    )\n",
    "    plot_scatter_line(\n",
    "       raw_data_x_values, raw_data_y_values,\n",
    "       spline_data_x_values, spline_data_y_values,\n",
    "       x_axis_label, y_axis_label, axis_title, graph_file_name\n",
    "    )"
   ]
  },
  {
   "cell_type": "code",
   "execution_count": 6,
   "metadata": {},
   "outputs": [],
   "source": [
    "def read_data_file():\n",
    "    '''\n",
    "    The data file is presumed to have an index (row names or values),\n",
    "    a first column with x values, and a second column with y values.\n",
    "    '''\n",
    "    while True:\n",
    "        file_name = input('CSV file name to read? ')\n",
    "        try:\n",
    "            data = pd.read_csv(file_name, index_col=None)\n",
    "        except FileNotFoundError:\n",
    "            print(f'File {file_name} does not exist. Please try again.')\n",
    "        else:\n",
    "            return data.iloc[:, 0], data.iloc[:, 1]"
   ]
  },
  {
   "cell_type": "code",
   "execution_count": 7,
   "metadata": {},
   "outputs": [],
   "source": [
    "def estimate_cubic_spline(raw_data_x_values, raw_data_y_values):\n",
    "    minimum = raw_data_x_values.min()\n",
    "    maximum = raw_data_x_values.max()\n",
    "    increment = (maximum - minimum)/100\n",
    "    spline_data_x_values = np.arange(minimum, maximum + increment, increment)\n",
    "    spline_data_y_values = cs(raw_data_x_values, raw_data_y_values)\n",
    "    return spline_data_x_values, spline_data_y_values"
   ]
  },
  {
   "cell_type": "code",
   "execution_count": 8,
   "metadata": {},
   "outputs": [],
   "source": [
    "def despine(ax: axes.Axes) -> None:\n",
    "    '''\n",
    "    Remove the top and right spines of a graph.\n",
    "\n",
    "    There is only one x axis, on the bottom, and one y axis, on the left.\n",
    "    '''\n",
    "    for spine in 'right', 'top':\n",
    "        ax.spines[spine].set_visible(False)"
   ]
  },
  {
   "cell_type": "code",
   "execution_count": 9,
   "metadata": {},
   "outputs": [],
   "source": [
    "def plot_scatter_line(\n",
    "        raw_data_x_values, raw_data_y_values,\n",
    "        spline_data_x_values, spline_data_y_values,\n",
    "        x_axis_label, y_axis_label, axis_title, graph_file_name\n",
    "):\n",
    "    figure_width_height = (8, 6)\n",
    "    fig = plt.figure(figsize=figure_width_height)\n",
    "    ax = fig.add_subplot(111)\n",
    "    ax.plot(\n",
    "        raw_data_x_values,\n",
    "        raw_data_y_values,\n",
    "        marker='o',\n",
    "        linestyle='None',\n",
    "        color=c[1],\n",
    "        label='data'\n",
    "    )\n",
    "    ax.plot(\n",
    "        spline_data_x_values,\n",
    "        spline_data_y_values(spline_data_x_values),\n",
    "        marker='None',\n",
    "        linestyle='-',\n",
    "        color=c[5], label='cubic spline'\n",
    "    )\n",
    "    ax.set_title(axis_title, fontweight='bold')\n",
    "    ax.set_xlabel(x_axis_label, fontweight='bold')\n",
    "    ax.set_ylabel(y_axis_label, fontweight='bold')\n",
    "    ax.legend(frameon=False)\n",
    "    despine(ax)\n",
    "    ax.figure.savefig(graph_file_name, format='svg')\n",
    "    return"
   ]
  },
  {
   "cell_type": "code",
   "execution_count": 10,
   "metadata": {},
   "outputs": [
    {
     "name": "stdout",
     "output_type": "stream",
     "text": [
      "CSV file name to read? cubic_spline_raw_data.csv\n"
     ]
    },
    {
     "data": {
      "image/png": "[encoded data removed]",
      "text/plain": [
       "<Figure size 576x432 with 1 Axes>"
      ]
     },
     "metadata": {
      "needs_background": "light"
     },
     "output_type": "display_data"
    }
   ],
   "source": [
    "if __name__ == '__main__':\n",
    "    main()"
   ]
  }
 ],
 "metadata": {
  "kernelspec": {
   "display_name": "Python 3",
   "language": "python",
   "name": "python3"
  },
  "language_info": {
   "codemirror_mode": {
    "name": "ipython",
    "version": 3
   },
   "file_extension": ".py",
   "mimetype": "text/x-python",
   "name": "python",
   "nbconvert_exporter": "python",
   "pygments_lexer": "ipython3",
   "version": "3.8.1"
  },
  "varInspector": {
   "cols": {
    "lenName": 16,
    "lenType": 16,
    "lenVar": 40
   },
   "kernels_config": {
    "python": {
     "delete_cmd_postfix": "",
     "delete_cmd_prefix": "del ",
     "library": "var_list.py",
     "varRefreshCmd": "print(var_dic_list())"
    },
    "r": {
     "delete_cmd_postfix": ") ",
     "delete_cmd_prefix": "rm(",
     "library": "var_list.r",
     "varRefreshCmd": "cat(var_dic_list()) "
    }
   },
   "types_to_exclude": [
    "module",
    "function",
    "builtin_function_or_method",
    "instance",
    "_Feature"
   ],
   "window_display": false
  }
 },
 "nbformat": 4,
 "nbformat_minor": 2
}
