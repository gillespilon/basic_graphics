{
 "cells": [
  {
   "cell_type": "markdown",
   "metadata": {},
   "source": [
    "# Cubic spline plot\n",
    "\n",
    "This script has several functions:\n",
    "\n",
    "This script has several functions:\n",
    "\n",
    "- Estimate a cubic spline for abscissa, ordinate = integer, float\n",
    "- Estimate a cubic spline for abscissa, ordinate = datetime, float\n",
    "- Plot the raw data as a scatter plot\n",
    "- Plot the cubic spline as a line plot"
   ]
  },
  {
   "cell_type": "code",
   "execution_count": null,
   "metadata": {},
   "outputs": [],
   "source": [
    "from matplotlib.ticker import NullFormatter, NullLocator\n",
    "from matplotlib.dates import DateFormatter, DayLocator\n",
    "import matplotlib.pyplot as plt\n",
    "import matplotlib.axes as axes\n",
    "from typing import Tuple\n",
    "import datasense as ds\n",
    "import pandas as pd\n"
   ]
  },
  {
   "cell_type": "code",
   "execution_count": null,
   "metadata": {},
   "outputs": [],
   "source": [
    "parser = '%Y-%m-%d %H:%M:%S'\n",
    "file_name = [\n",
    "    'raw_data_integer_float.csv',\n",
    "    'raw_data_datetime_float.csv',\n",
    "    'dataframe_small_datetime_integer.csv',\n",
    "    'dataframe_small_integer_integer.csv'\n",
    "]\n",
    "abscissa_name = ['abscissa', 'datetime', 'datetime', 'abscissa']\n",
    "ordinate_name = ['ordinate', 'observed', 'observed', 'ordinate']\n",
    "ordinate_predicted_name = [\n",
    "    'ordinate_predicted',\n",
    "    'ordinate_predicted',\n",
    "    'ordinate_predicted',\n",
    "    'ordinate_predicted'\n",
    "]\n",
    "graph_file_name = [\n",
    "    'cubic_spline_integer_float',\n",
    "    'cubic_spline_datetime_float',\n",
    "    'cubic_spline_dataframe_small_datetime_integer',\n",
    "    'cubic_spline_dataframe_small_integer_integer'\n",
    "]\n",
    "date_time_parser = [None, parser, parser, None]\n",
    "date_formatter = [None, '%m-%d', '%m-%d', None]\n",
    "column_names_sort = [False, False, False, False]\n",
    "figure_width_height = (8, 6)\n",
    "x_axis_label = 'Abscissa'\n",
    "y_axis_label = 'Ordinate'\n",
    "axis_title = 'Cubic Spline'\n",
    "%matplotlib inline\n",
    "%config InlineBackend.figure_format = 'svg'\n",
    "colour1 = '#0077bb'\n",
    "colour2 = '#33bbee'"
   ]
  },
  {
   "cell_type": "code",
   "execution_count": null,
   "metadata": {},
   "outputs": [],
   "source": [
    "def main():\n",
    "    for (\n",
    "        filename,\n",
    "        abscissaname,\n",
    "        ordinatename,\n",
    "        ordinatepredictedname,\n",
    "        datetimeparser,\n",
    "        columnnamessort,\n",
    "        dateformatter,\n",
    "        graphfilename\n",
    "    ) in zip(\n",
    "        file_name,\n",
    "        abscissa_name,\n",
    "        ordinate_name,\n",
    "        ordinate_predicted_name,\n",
    "        date_time_parser,\n",
    "        column_names_sort,\n",
    "        date_formatter,\n",
    "        graph_file_name\n",
    "    ):\n",
    "        data = ds.read_file(\n",
    "            file_name=filename,\n",
    "            parse_dates=list(abscissaname),\n",
    "            date_parser=datetimeparser,\n",
    "            sort_columns=columnnamessort,\n",
    "            sort_columns_bool=True\n",
    "        )\n",
    "        if datetimeparser is True:\n",
    "            data[abscissaname] = pd.to_numeric(data[abscissaname])\n",
    "            spline = ds.cubic_spline(data, abscissaname, ordinatename)\n",
    "            data[ordinatepredictedname] = spline(data[abscissaname])\n",
    "            data[abscissaname] = data[abscissaname].astype('datetime64[ns]')\n",
    "        else:\n",
    "            spline = ds.cubic_spline(data, abscissaname, ordinatename)\n",
    "            data[ordinatepredictedname] = spline(data[abscissaname])\n",
    "        plot_graph(\n",
    "            data,\n",
    "            abscissaname,\n",
    "            ordinatename,\n",
    "            ordinatepredictedname,\n",
    "            figure_width_height,\n",
    "            dateformatter,\n",
    "            graphfilename,\n",
    "            axis_title,\n",
    "            x_axis_label,\n",
    "            y_axis_label\n",
    "        )"
   ]
  },
  {
   "cell_type": "code",
   "execution_count": null,
   "metadata": {},
   "outputs": [],
   "source": [
    "def plot_graph(\n",
    "    df: pd.DataFrame,\n",
    "    columnx: str,\n",
    "    columny: str,\n",
    "    columnz: str,\n",
    "    figurewidthheight: Tuple[int, int],\n",
    "    dateformat: str,\n",
    "    graphname: str,\n",
    "    graphtitle: str,\n",
    "    xaxislabel: str,\n",
    "    yaxislabel: str\n",
    ") -> None:\n",
    "    fig = plt.figure(figsize=figurewidthheight)\n",
    "    ax = fig.add_subplot(111)\n",
    "    ax.plot(\n",
    "        df[columnx],\n",
    "        df[columny],\n",
    "        marker='.',\n",
    "        linestyle='',\n",
    "        color=colour1\n",
    "    )\n",
    "    ax.plot(\n",
    "        df[columnx],\n",
    "        df[columnz],\n",
    "        marker=None,\n",
    "        linestyle='-',\n",
    "        color=colour2\n",
    "    )\n",
    "    if dateformat:\n",
    "        ax.xaxis.set_major_locator(DayLocator())\n",
    "        ax.xaxis.set_minor_locator(NullLocator())\n",
    "        ax.xaxis.set_major_formatter(DateFormatter(dateformat))\n",
    "        ax.xaxis.set_minor_formatter(NullFormatter())\n",
    "    ax.set_title(graphtitle, )\n",
    "    ax.set_xlabel(xaxislabel, )\n",
    "    ax.set_ylabel(yaxislabel, )\n",
    "    ds.despine(ax=ax)\n",
    "    ax.figure.savefig(f'{graphname}.svg', format='svg')"
   ]
  },
  {
   "cell_type": "code",
   "execution_count": null,
   "metadata": {
    "scrolled": false
   },
   "outputs": [],
   "source": [
    "if __name__ == '__main__':\n",
    "    main()"
   ]
  }
 ],
 "metadata": {
  "kernelspec": {
   "display_name": "Python 3",
   "language": "python",
   "name": "python3"
  },
  "language_info": {
   "codemirror_mode": {
    "name": "ipython",
    "version": 3
   },
   "file_extension": ".py",
   "mimetype": "text/x-python",
   "name": "python",
   "nbconvert_exporter": "python",
   "pygments_lexer": "ipython3",
   "version": "3.10.4"
  },
  "varInspector": {
   "cols": {
    "lenName": 16,
    "lenType": 16,
    "lenVar": 40
   },
   "kernels_config": {
    "python": {
     "delete_cmd_postfix": "",
     "delete_cmd_prefix": "del ",
     "library": "var_list.py",
     "varRefreshCmd": "print(var_dic_list())"
    },
    "r": {
     "delete_cmd_postfix": ") ",
     "delete_cmd_prefix": "rm(",
     "library": "var_list.r",
     "varRefreshCmd": "cat(var_dic_list()) "
    }
   },
   "types_to_exclude": [
    "module",
    "function",
    "builtin_function_or_method",
    "instance",
    "_Feature"
   ],
   "window_display": false
  }
 },
 "nbformat": 4,
 "nbformat_minor": 2
}
