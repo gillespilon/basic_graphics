{
 "cells": [
  {
   "cell_type": "markdown",
   "metadata": {},
   "source": [
    "# Cubic spline plot\n",
    "\n",
    "This script has several functions:\n",
    "\n",
    "This script has several functions:\n",
    "\n",
    "- Estimate a cubic spline for abscissa, ordinate = integer, float\n",
    "- Estimate a cubic spline for abscissa, ordinate = datetime, float\n",
    "- Plot the raw data as a scatter plot\n",
    "- Plot the cubic spline as a line plot"
   ]
  },
  {
   "cell_type": "code",
   "execution_count": 1,
   "metadata": {},
   "outputs": [],
   "source": [
    "from matplotlib.ticker import NullFormatter, NullLocator\n",
    "from matplotlib.dates import DateFormatter, DayLocator\n",
    "import matplotlib.pyplot as plt\n",
    "import matplotlib.axes as axes\n",
    "from typing import Tuple\n",
    "import datasense as ds\n",
    "import pandas as pd\n"
   ]
  },
  {
   "cell_type": "code",
   "execution_count": 2,
   "metadata": {},
   "outputs": [],
   "source": [
    "parser = '%Y-%m-%d %H:%M:%S'\n",
    "file_name = [\n",
    "    'raw_data_integer_float.csv',\n",
    "    'raw_data_datetime_float.csv',\n",
    "    'dataframe_small_datetime_integer.csv',\n",
    "    'dataframe_small_integer_integer.csv'\n",
    "]\n",
    "abscissa_name = ['abscissa', 'datetime', 'datetime', 'abscissa']\n",
    "ordinate_name = ['ordinate', 'observed', 'observed', 'ordinate']\n",
    "ordinate_predicted_name = [\n",
    "    'ordinate_predicted',\n",
    "    'ordinate_predicted',\n",
    "    'ordinate_predicted',\n",
    "    'ordinate_predicted'\n",
    "]\n",
    "graph_file_name = [\n",
    "    'cubic_spline_integer_float',\n",
    "    'cubic_spline_datetime_float',\n",
    "    'cubic_spline_dataframe_small_datetime_integer',\n",
    "    'cubic_spline_dataframe_small_integer_integer'\n",
    "]\n",
    "date_time_parser = [None, parser, parser, None]\n",
    "date_formatter = [None, '%m-%d', '%m-%d', None]\n",
    "column_names_sort = [False, False, False, False]\n",
    "figure_width_height = (8, 6)\n",
    "x_axis_label = 'Abscissa'\n",
    "y_axis_label = 'Ordinate'\n",
    "axis_title = 'Cubic Spline'\n",
    "%matplotlib inline\n",
    "%config InlineBackend.figure_format = 'svg'\n",
    "colour1 = '#0077bb'\n",
    "colour2 = '#33bbee'"
   ]
  },
  {
   "cell_type": "code",
   "execution_count": 3,
   "metadata": {},
   "outputs": [],
   "source": [
    "def main():\n",
    "    for (\n",
    "        filename,\n",
    "        abscissaname,\n",
    "        ordinatename,\n",
    "        ordinatepredictedname,\n",
    "        datetimeparser,\n",
    "        columnnamessort,\n",
    "        dateformatter,\n",
    "        graphfilename\n",
    "    ) in zip(\n",
    "        file_name,\n",
    "        abscissa_name,\n",
    "        ordinate_name,\n",
    "        ordinate_predicted_name,\n",
    "        date_time_parser,\n",
    "        column_names_sort,\n",
    "        date_formatter,\n",
    "        graph_file_name\n",
    "    ):\n",
    "        data = ds.read_file(\n",
    "            file_name=filename,\n",
    "            parse_dates=list(abscissaname),\n",
    "            date_parser=datetimeparser,\n",
    "            sort_columns=columnnamessort,\n",
    "            sort_columns_bool=True\n",
    "        )\n",
    "        if datetimeparser is True:\n",
    "            data[abscissaname] = pd.to_numeric(data[abscissaname])\n",
    "            spline = ds.cubic_spline(data, abscissaname, ordinatename)\n",
    "            data[ordinatepredictedname] = spline(data[abscissaname])\n",
    "            data[abscissaname] = data[abscissaname].astype('datetime64[ns]')\n",
    "        else:\n",
    "            spline = ds.cubic_spline(data, abscissaname, ordinatename)\n",
    "            data[ordinatepredictedname] = spline(data[abscissaname])\n",
    "        plot_graph(\n",
    "            data,\n",
    "            abscissaname,\n",
    "            ordinatename,\n",
    "            ordinatepredictedname,\n",
    "            figure_width_height,\n",
    "            dateformatter,\n",
    "            graphfilename,\n",
    "            axis_title,\n",
    "            x_axis_label,\n",
    "            y_axis_label\n",
    "        )"
   ]
  },
  {
   "cell_type": "code",
   "execution_count": 4,
   "metadata": {},
   "outputs": [],
   "source": [
    "def despine(ax: axes.Axes) -> None:\n",
    "    \"\"\"\n",
    "    Remove the top and right spines of a graph.\n",
    "\n",
    "    Parameters\n",
    "    ----------\n",
    "    ax : axes.Axes\n",
    "\n",
    "    Example\n",
    "    -------\n",
    "    >>> despine(ax=ax)\n",
    "    \"\"\"\n",
    "    for spine in 'right', 'top':\n",
    "        ax.spines[spine].set_visible(False)"
   ]
  },
  {
   "cell_type": "code",
   "execution_count": 5,
   "metadata": {},
   "outputs": [],
   "source": [
    "def plot_graph(\n",
    "    df: pd.DataFrame,\n",
    "    columnx: str,\n",
    "    columny: str,\n",
    "    columnz: str,\n",
    "    figurewidthheight: Tuple[int, int],\n",
    "    dateformat: str,\n",
    "    graphname: str,\n",
    "    graphtitle: str,\n",
    "    xaxislabel: str,\n",
    "    yaxislabel: str\n",
    ") -> None:\n",
    "    fig = plt.figure(figsize=figurewidthheight)\n",
    "    ax = fig.add_subplot(111)\n",
    "    ax.plot(\n",
    "        df[columnx],\n",
    "        df[columny],\n",
    "        marker='.',\n",
    "        linestyle='',\n",
    "        color=colour1\n",
    "    )\n",
    "    ax.plot(\n",
    "        df[columnx],\n",
    "        df[columnz],\n",
    "        marker=None,\n",
    "        linestyle='-',\n",
    "        color=colour2\n",
    "    )\n",
    "    if dateformat:\n",
    "        ax.xaxis.set_major_locator(DayLocator())\n",
    "        ax.xaxis.set_minor_locator(NullLocator())\n",
    "        ax.xaxis.set_major_formatter(DateFormatter(dateformat))\n",
    "        ax.xaxis.set_minor_formatter(NullFormatter())\n",
    "    ax.set_title(graphtitle, )\n",
    "    ax.set_xlabel(xaxislabel, )\n",
    "    ax.set_ylabel(yaxislabel, )\n",
    "    despine(ax=ax)\n",
    "    ax.figure.savefig(f'{graphname}.svg', format='svg')"
   ]
  },
  {
   "cell_type": "code",
   "execution_count": 6,
   "metadata": {
    "scrolled": false
   },
   "outputs": [
    {
     "ename": "ValueError",
     "evalue": "Missing column provided to 'parse_dates': 'a, b, c, i, s'",
     "output_type": "error",
     "traceback": [
      "\u001b[0;31m---------------------------------------------------------------------------\u001b[0m",
      "\u001b[0;31mValueError\u001b[0m                                Traceback (most recent call last)",
      "\u001b[0;32m<ipython-input-6-c7bc734e5e35>\u001b[0m in \u001b[0;36m<module>\u001b[0;34m\u001b[0m\n\u001b[1;32m      1\u001b[0m \u001b[0;32mif\u001b[0m \u001b[0m__name__\u001b[0m \u001b[0;34m==\u001b[0m \u001b[0;34m'__main__'\u001b[0m\u001b[0;34m:\u001b[0m\u001b[0;34m\u001b[0m\u001b[0;34m\u001b[0m\u001b[0m\n\u001b[0;32m----> 2\u001b[0;31m     \u001b[0mmain\u001b[0m\u001b[0;34m(\u001b[0m\u001b[0;34m)\u001b[0m\u001b[0;34m\u001b[0m\u001b[0;34m\u001b[0m\u001b[0m\n\u001b[0m",
      "\u001b[0;32m<ipython-input-3-c27c96d6e233>\u001b[0m in \u001b[0;36mmain\u001b[0;34m()\u001b[0m\n\u001b[1;32m     19\u001b[0m         \u001b[0mgraph_file_name\u001b[0m\u001b[0;34m\u001b[0m\u001b[0;34m\u001b[0m\u001b[0m\n\u001b[1;32m     20\u001b[0m     ):\n\u001b[0;32m---> 21\u001b[0;31m         data = ds.read_file(\n\u001b[0m\u001b[1;32m     22\u001b[0m             \u001b[0mfile_name\u001b[0m\u001b[0;34m=\u001b[0m\u001b[0mfilename\u001b[0m\u001b[0;34m,\u001b[0m\u001b[0;34m\u001b[0m\u001b[0;34m\u001b[0m\u001b[0m\n\u001b[1;32m     23\u001b[0m             \u001b[0mparse_dates\u001b[0m\u001b[0;34m=\u001b[0m\u001b[0mlist\u001b[0m\u001b[0;34m(\u001b[0m\u001b[0mabscissaname\u001b[0m\u001b[0;34m)\u001b[0m\u001b[0;34m,\u001b[0m\u001b[0;34m\u001b[0m\u001b[0;34m\u001b[0m\u001b[0m\n",
      "\u001b[0;32m~/documents/websites/support.gillespilon.ca/fil/datasense/datasense/munging.py\u001b[0m in \u001b[0;36mread_file\u001b[0;34m(file_name, column_names_dict, index_columns, converters, parse_dates, date_parser, date_time_columns, time_delta_columns, category_columns, integer_columns, float_columns, boolean_columns, object_columns, sort_columns, sort_columns_bool, sheet_name)\u001b[0m\n\u001b[1;32m    750\u001b[0m     \"\"\"\n\u001b[1;32m    751\u001b[0m     \u001b[0;32mif\u001b[0m \u001b[0;34m'.csv'\u001b[0m \u001b[0;32min\u001b[0m \u001b[0mfile_name\u001b[0m\u001b[0;34m:\u001b[0m\u001b[0;34m\u001b[0m\u001b[0;34m\u001b[0m\u001b[0m\n\u001b[0;32m--> 752\u001b[0;31m         df = pd.read_csv(\n\u001b[0m\u001b[1;32m    753\u001b[0m             \u001b[0mfile_name\u001b[0m\u001b[0;34m,\u001b[0m\u001b[0;34m\u001b[0m\u001b[0;34m\u001b[0m\u001b[0m\n\u001b[1;32m    754\u001b[0m             \u001b[0mconverters\u001b[0m\u001b[0;34m=\u001b[0m\u001b[0mconverters\u001b[0m\u001b[0;34m,\u001b[0m\u001b[0;34m\u001b[0m\u001b[0;34m\u001b[0m\u001b[0m\n",
      "\u001b[0;32m~/.local/lib/python3.8/site-packages/pandas/io/parsers.py\u001b[0m in \u001b[0;36mread_csv\u001b[0;34m(filepath_or_buffer, sep, delimiter, header, names, index_col, usecols, squeeze, prefix, mangle_dupe_cols, dtype, engine, converters, true_values, false_values, skipinitialspace, skiprows, skipfooter, nrows, na_values, keep_default_na, na_filter, verbose, skip_blank_lines, parse_dates, infer_datetime_format, keep_date_col, date_parser, dayfirst, cache_dates, iterator, chunksize, compression, thousands, decimal, lineterminator, quotechar, quoting, doublequote, escapechar, comment, encoding, dialect, error_bad_lines, warn_bad_lines, delim_whitespace, low_memory, memory_map, float_precision)\u001b[0m\n\u001b[1;32m    684\u001b[0m     )\n\u001b[1;32m    685\u001b[0m \u001b[0;34m\u001b[0m\u001b[0m\n\u001b[0;32m--> 686\u001b[0;31m     \u001b[0;32mreturn\u001b[0m \u001b[0m_read\u001b[0m\u001b[0;34m(\u001b[0m\u001b[0mfilepath_or_buffer\u001b[0m\u001b[0;34m,\u001b[0m \u001b[0mkwds\u001b[0m\u001b[0;34m)\u001b[0m\u001b[0;34m\u001b[0m\u001b[0;34m\u001b[0m\u001b[0m\n\u001b[0m\u001b[1;32m    687\u001b[0m \u001b[0;34m\u001b[0m\u001b[0m\n\u001b[1;32m    688\u001b[0m \u001b[0;34m\u001b[0m\u001b[0m\n",
      "\u001b[0;32m~/.local/lib/python3.8/site-packages/pandas/io/parsers.py\u001b[0m in \u001b[0;36m_read\u001b[0;34m(filepath_or_buffer, kwds)\u001b[0m\n\u001b[1;32m    450\u001b[0m \u001b[0;34m\u001b[0m\u001b[0m\n\u001b[1;32m    451\u001b[0m     \u001b[0;31m# Create the parser.\u001b[0m\u001b[0;34m\u001b[0m\u001b[0;34m\u001b[0m\u001b[0;34m\u001b[0m\u001b[0m\n\u001b[0;32m--> 452\u001b[0;31m     \u001b[0mparser\u001b[0m \u001b[0;34m=\u001b[0m \u001b[0mTextFileReader\u001b[0m\u001b[0;34m(\u001b[0m\u001b[0mfp_or_buf\u001b[0m\u001b[0;34m,\u001b[0m \u001b[0;34m**\u001b[0m\u001b[0mkwds\u001b[0m\u001b[0;34m)\u001b[0m\u001b[0;34m\u001b[0m\u001b[0;34m\u001b[0m\u001b[0m\n\u001b[0m\u001b[1;32m    453\u001b[0m \u001b[0;34m\u001b[0m\u001b[0m\n\u001b[1;32m    454\u001b[0m     \u001b[0;32mif\u001b[0m \u001b[0mchunksize\u001b[0m \u001b[0;32mor\u001b[0m \u001b[0miterator\u001b[0m\u001b[0;34m:\u001b[0m\u001b[0;34m\u001b[0m\u001b[0;34m\u001b[0m\u001b[0m\n",
      "\u001b[0;32m~/.local/lib/python3.8/site-packages/pandas/io/parsers.py\u001b[0m in \u001b[0;36m__init__\u001b[0;34m(self, f, engine, **kwds)\u001b[0m\n\u001b[1;32m    934\u001b[0m             \u001b[0mself\u001b[0m\u001b[0;34m.\u001b[0m\u001b[0moptions\u001b[0m\u001b[0;34m[\u001b[0m\u001b[0;34m\"has_index_names\"\u001b[0m\u001b[0;34m]\u001b[0m \u001b[0;34m=\u001b[0m \u001b[0mkwds\u001b[0m\u001b[0;34m[\u001b[0m\u001b[0;34m\"has_index_names\"\u001b[0m\u001b[0;34m]\u001b[0m\u001b[0;34m\u001b[0m\u001b[0;34m\u001b[0m\u001b[0m\n\u001b[1;32m    935\u001b[0m \u001b[0;34m\u001b[0m\u001b[0m\n\u001b[0;32m--> 936\u001b[0;31m         \u001b[0mself\u001b[0m\u001b[0;34m.\u001b[0m\u001b[0m_make_engine\u001b[0m\u001b[0;34m(\u001b[0m\u001b[0mself\u001b[0m\u001b[0;34m.\u001b[0m\u001b[0mengine\u001b[0m\u001b[0;34m)\u001b[0m\u001b[0;34m\u001b[0m\u001b[0;34m\u001b[0m\u001b[0m\n\u001b[0m\u001b[1;32m    937\u001b[0m \u001b[0;34m\u001b[0m\u001b[0m\n\u001b[1;32m    938\u001b[0m     \u001b[0;32mdef\u001b[0m \u001b[0mclose\u001b[0m\u001b[0;34m(\u001b[0m\u001b[0mself\u001b[0m\u001b[0;34m)\u001b[0m\u001b[0;34m:\u001b[0m\u001b[0;34m\u001b[0m\u001b[0;34m\u001b[0m\u001b[0m\n",
      "\u001b[0;32m~/.local/lib/python3.8/site-packages/pandas/io/parsers.py\u001b[0m in \u001b[0;36m_make_engine\u001b[0;34m(self, engine)\u001b[0m\n\u001b[1;32m   1166\u001b[0m     \u001b[0;32mdef\u001b[0m \u001b[0m_make_engine\u001b[0m\u001b[0;34m(\u001b[0m\u001b[0mself\u001b[0m\u001b[0;34m,\u001b[0m \u001b[0mengine\u001b[0m\u001b[0;34m=\u001b[0m\u001b[0;34m\"c\"\u001b[0m\u001b[0;34m)\u001b[0m\u001b[0;34m:\u001b[0m\u001b[0;34m\u001b[0m\u001b[0;34m\u001b[0m\u001b[0m\n\u001b[1;32m   1167\u001b[0m         \u001b[0;32mif\u001b[0m \u001b[0mengine\u001b[0m \u001b[0;34m==\u001b[0m \u001b[0;34m\"c\"\u001b[0m\u001b[0;34m:\u001b[0m\u001b[0;34m\u001b[0m\u001b[0;34m\u001b[0m\u001b[0m\n\u001b[0;32m-> 1168\u001b[0;31m             \u001b[0mself\u001b[0m\u001b[0;34m.\u001b[0m\u001b[0m_engine\u001b[0m \u001b[0;34m=\u001b[0m \u001b[0mCParserWrapper\u001b[0m\u001b[0;34m(\u001b[0m\u001b[0mself\u001b[0m\u001b[0;34m.\u001b[0m\u001b[0mf\u001b[0m\u001b[0;34m,\u001b[0m \u001b[0;34m**\u001b[0m\u001b[0mself\u001b[0m\u001b[0;34m.\u001b[0m\u001b[0moptions\u001b[0m\u001b[0;34m)\u001b[0m\u001b[0;34m\u001b[0m\u001b[0;34m\u001b[0m\u001b[0m\n\u001b[0m\u001b[1;32m   1169\u001b[0m         \u001b[0;32melse\u001b[0m\u001b[0;34m:\u001b[0m\u001b[0;34m\u001b[0m\u001b[0;34m\u001b[0m\u001b[0m\n\u001b[1;32m   1170\u001b[0m             \u001b[0;32mif\u001b[0m \u001b[0mengine\u001b[0m \u001b[0;34m==\u001b[0m \u001b[0;34m\"python\"\u001b[0m\u001b[0;34m:\u001b[0m\u001b[0;34m\u001b[0m\u001b[0;34m\u001b[0m\u001b[0m\n",
      "\u001b[0;32m~/.local/lib/python3.8/site-packages/pandas/io/parsers.py\u001b[0m in \u001b[0;36m__init__\u001b[0;34m(self, src, **kwds)\u001b[0m\n\u001b[1;32m   2054\u001b[0m                 \u001b[0m_validate_usecols_names\u001b[0m\u001b[0;34m(\u001b[0m\u001b[0musecols\u001b[0m\u001b[0;34m,\u001b[0m \u001b[0mself\u001b[0m\u001b[0;34m.\u001b[0m\u001b[0mnames\u001b[0m\u001b[0;34m)\u001b[0m\u001b[0;34m\u001b[0m\u001b[0;34m\u001b[0m\u001b[0m\n\u001b[1;32m   2055\u001b[0m \u001b[0;34m\u001b[0m\u001b[0m\n\u001b[0;32m-> 2056\u001b[0;31m         \u001b[0mself\u001b[0m\u001b[0;34m.\u001b[0m\u001b[0m_validate_parse_dates_presence\u001b[0m\u001b[0;34m(\u001b[0m\u001b[0mself\u001b[0m\u001b[0;34m.\u001b[0m\u001b[0mnames\u001b[0m\u001b[0;34m)\u001b[0m\u001b[0;34m\u001b[0m\u001b[0;34m\u001b[0m\u001b[0m\n\u001b[0m\u001b[1;32m   2057\u001b[0m         \u001b[0mself\u001b[0m\u001b[0;34m.\u001b[0m\u001b[0m_set_noconvert_columns\u001b[0m\u001b[0;34m(\u001b[0m\u001b[0;34m)\u001b[0m\u001b[0;34m\u001b[0m\u001b[0;34m\u001b[0m\u001b[0m\n\u001b[1;32m   2058\u001b[0m \u001b[0;34m\u001b[0m\u001b[0m\n",
      "\u001b[0;32m~/.local/lib/python3.8/site-packages/pandas/io/parsers.py\u001b[0m in \u001b[0;36m_validate_parse_dates_presence\u001b[0;34m(self, columns)\u001b[0m\n\u001b[1;32m   1531\u001b[0m         )\n\u001b[1;32m   1532\u001b[0m         \u001b[0;32mif\u001b[0m \u001b[0mmissing_cols\u001b[0m\u001b[0;34m:\u001b[0m\u001b[0;34m\u001b[0m\u001b[0;34m\u001b[0m\u001b[0m\n\u001b[0;32m-> 1533\u001b[0;31m             raise ValueError(\n\u001b[0m\u001b[1;32m   1534\u001b[0m                 \u001b[0;34mf\"Missing column provided to 'parse_dates': '{missing_cols}'\"\u001b[0m\u001b[0;34m\u001b[0m\u001b[0;34m\u001b[0m\u001b[0m\n\u001b[1;32m   1535\u001b[0m             )\n",
      "\u001b[0;31mValueError\u001b[0m: Missing column provided to 'parse_dates': 'a, b, c, i, s'"
     ]
    }
   ],
   "source": [
    "if __name__ == '__main__':\n",
    "    main()"
   ]
  }
 ],
 "metadata": {
  "kernelspec": {
   "display_name": "Python 3",
   "language": "python",
   "name": "python3"
  },
  "language_info": {
   "codemirror_mode": {
    "name": "ipython",
    "version": 3
   },
   "file_extension": ".py",
   "mimetype": "text/x-python",
   "name": "python",
   "nbconvert_exporter": "python",
   "pygments_lexer": "ipython3",
   "version": "3.9.5"
  },
  "varInspector": {
   "cols": {
    "lenName": 16,
    "lenType": 16,
    "lenVar": 40
   },
   "kernels_config": {
    "python": {
     "delete_cmd_postfix": "",
     "delete_cmd_prefix": "del ",
     "library": "var_list.py",
     "varRefreshCmd": "print(var_dic_list())"
    },
    "r": {
     "delete_cmd_postfix": ") ",
     "delete_cmd_prefix": "rm(",
     "library": "var_list.r",
     "varRefreshCmd": "cat(var_dic_list()) "
    }
   },
   "types_to_exclude": [
    "module",
    "function",
    "builtin_function_or_method",
    "instance",
    "_Feature"
   ],
   "window_display": false
  }
 },
 "nbformat": 4,
 "nbformat_minor": 2
}
