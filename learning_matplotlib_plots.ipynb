{
 "cells": [
  {
   "cell_type": "markdown",
   "metadata": {},
   "source": [
    "# Learning matplotlib\n",
    "\n",
    "The purpose of this notebook is to learn how to do matplotlib graphs."
   ]
  },
  {
   "cell_type": "code",
   "execution_count": null,
   "metadata": {},
   "outputs": [],
   "source": [
    "import pandas as pd\n",
    "from numpy.polynomial import polynomial as nppoly\n",
    "import matplotlib.pyplot as plt\n",
    "import matplotlib.axes as axes\n",
    "import matplotlib.cm as cm\n",
    "from matplotlib.gridspec import GridSpec\n",
    "from matplotlib.dates import DateFormatter, DayLocator\n",
    "from matplotlib.ticker import NullFormatter, NullLocator\n",
    "\n",
    "%matplotlib inline\n",
    "%config InlineBackend.figure_format ='svg'"
   ]
  },
  {
   "cell_type": "code",
   "execution_count": null,
   "metadata": {},
   "outputs": [],
   "source": [
    "c = cm.Paired.colors"
   ]
  },
  {
   "cell_type": "code",
   "execution_count": null,
   "metadata": {},
   "outputs": [],
   "source": [
    "def despine(ax: axes.Axes) -> None:\n",
    "    '''\n",
    "    Remove the top and right spines of a graph.\n",
    "\n",
    "    Used to enforce standard and *correct* style. There is only one x,\n",
    "    and one y axis, left and bottom, therefore there should only be\n",
    "    these axes.\n",
    "    '''\n",
    "    for spine in 'right', 'top':\n",
    "        ax.spines[spine].set_visible(False)"
   ]
  },
  {
   "cell_type": "code",
   "execution_count": null,
   "metadata": {},
   "outputs": [],
   "source": [
    "pd.plotting.register_matplotlib_converters(explicit=True)"
   ]
  },
  {
   "cell_type": "code",
   "execution_count": null,
   "metadata": {},
   "outputs": [],
   "source": [
    "# df = pd.read_csv('weight.csv', parse_dates=['Date'], index_col='Date')\n",
    "df = pd.read_csv('weight.csv', parse_dates=['Date'])"
   ]
  },
  {
   "cell_type": "code",
   "execution_count": null,
   "metadata": {},
   "outputs": [],
   "source": [
    "df.head()"
   ]
  },
  {
   "cell_type": "code",
   "execution_count": null,
   "metadata": {},
   "outputs": [],
   "source": [
    "df.index"
   ]
  },
  {
   "cell_type": "code",
   "execution_count": null,
   "metadata": {},
   "outputs": [],
   "source": [
    "df.dtypes"
   ]
  },
  {
   "cell_type": "markdown",
   "metadata": {},
   "source": [
    "# Single figure, single axes"
   ]
  },
  {
   "cell_type": "code",
   "execution_count": null,
   "metadata": {},
   "outputs": [],
   "source": [
    "fighw = (8, 6)\n",
    "fig_title = 'Figure title'\n",
    "ax_title = 'Axes title'\n",
    "x_axis_label = 'X axis label (units)'\n",
    "y_axis_label = 'Y axis label (units)'\n",
    "fig = plt.figure(figsize=fighw)\n",
    "fig.suptitle(fig_title, fontweight='bold')\n",
    "ax = fig.add_subplot(111)\n",
    "ax.plot(df['Date'], df['Steps'],\n",
    "        marker='o', linestyle='-', color='g')\n",
    "ax.axhline(y=df['Steps'].median(), color='m')\n",
    "ax.set_ylabel(y_axis_label, fontweight='bold')\n",
    "ax.set_xlabel(x_axis_label, fontweight='bold')\n",
    "ax.set_title(ax_title, fontweight='bold')\n",
    "ax.xaxis.set_major_locator(DayLocator())\n",
    "ax.xaxis.set_minor_locator(NullLocator())\n",
    "ax.xaxis.set_major_formatter(DateFormatter('%m-%d'))\n",
    "ax.xaxis.set_minor_formatter(NullFormatter())\n",
    "despine(ax)"
   ]
  },
  {
   "cell_type": "markdown",
   "metadata": {},
   "source": [
    "## Single figure, single axes, left y axis, right y axis"
   ]
  },
  {
   "cell_type": "code",
   "execution_count": null,
   "metadata": {},
   "outputs": [],
   "source": [
    "fighw = (8, 6)\n",
    "fig_title = 'Figure title'\n",
    "ax_title = 'Axes title'\n",
    "x_axis_label = 'X axis label (units)'\n",
    "y_axis_label = 'Y axis label (units)'\n",
    "fig, ax1 = plt.subplots(figsize=(8, 6))\n",
    "fig.suptitle(fig_title, fontweight='bold')\n",
    "ax1.plot(df['Date'], df['Actual'],\n",
    "         marker='o', linestyle='None', color='r')\n",
    "# ax.autoscale(enable=True)\n",
    "ax1.set_ylabel('Left vertical axis (units)', fontweight='bold')\n",
    "ax1.set_xlabel(x_axis_label, fontweight='bold')\n",
    "ax2 = ax1.twinx()\n",
    "ax2.plot(df['Date'], df['Steps'],\n",
    "         marker='*', linestyle='-', color='b')\n",
    "ax2.set_ylabel('Right vertical axis (units)', fontweight='bold')\n",
    "ax2.xaxis.set_major_locator(DayLocator())\n",
    "ax2.xaxis.set_minor_locator(NullLocator())\n",
    "ax2.xaxis.set_major_formatter(DateFormatter('%m-%d'))\n",
    "ax2.xaxis.set_minor_formatter(NullFormatter())"
   ]
  },
  {
   "cell_type": "markdown",
   "metadata": {},
   "source": [
    "## Single figure, two axes"
   ]
  },
  {
   "cell_type": "code",
   "execution_count": null,
   "metadata": {},
   "outputs": [],
   "source": [
    "ax_title = [('Data set I', 'Data set II')]\n",
    "fig = plt.figure(figsize=(fighw))\n",
    "fig.suptitle(fig_title, fontweight='bold')\n",
    "gs = GridSpec(1, 2, figure=fig)\n",
    "for i in range(1):\n",
    "    for j in range(2):\n",
    "        ax = fig.add_subplot(gs[i, j])\n",
    "        ax.plot(df['Date'], df['Steps'],\n",
    "                marker='o', linestyle='-', color='g')\n",
    "        ax.set_title(ax_title[i][j])\n",
    "        ax.set_ylabel(y_axis_label)\n",
    "        ax.set_xlabel(x_axis_label)\n",
    "        despine(ax)\n",
    "        ax.xaxis.set_major_locator(DayLocator())\n",
    "        ax.xaxis.set_minor_locator(NullLocator())\n",
    "        ax.xaxis.set_major_formatter(DateFormatter('%d'))\n",
    "        ax.xaxis.set_minor_formatter(NullFormatter())\n",
    "plt.tight_layout(pad=3)"
   ]
  },
  {
   "cell_type": "markdown",
   "metadata": {},
   "source": [
    "## Single figure, four axes"
   ]
  },
  {
   "cell_type": "code",
   "execution_count": null,
   "metadata": {},
   "outputs": [],
   "source": [
    "aq1 = pd.read_csv('aq1.csv')\n",
    "aq2 = pd.read_csv('aq2.csv')\n",
    "aq3 = pd.read_csv('aq3.csv')\n",
    "aq4 = pd.read_csv('aq4.csv')\n",
    "df = [(aq1, aq2), (aq3, aq4)]\n",
    "xlim = [2, 20]\n",
    "ylim = [2, 14]\n",
    "fig_title = \"Anscombe's Quartet\"\n",
    "ax_title = [('Data set I', 'Data set II'), ('Data set III', 'Dataset IV')]\n",
    "fig = plt.figure(figsize=(fighw))\n",
    "fig.suptitle(fig_title, fontweight='bold')\n",
    "gs = GridSpec(2, 2, figure=fig)\n",
    "for i in range(2):\n",
    "    for j in range(2):\n",
    "        ax = fig.add_subplot(gs[i, j])\n",
    "        ax.scatter(df[i][j]['x'], df[i][j]['y'], color=c[0], linewidth=0,\n",
    "                   linestyle=\"-\", s=10, label=\"I\")\n",
    "        b, m = nppoly.polyfit(df[i][j]['x'], df[i][j]['y'], 1)\n",
    "        ax.plot(df[i][j]['x'], m*df[i][j]['x'] + b, '-', color=c[1])\n",
    "        ax.set_ylim(ylim)\n",
    "        ax.set_xlim(xlim)\n",
    "        ax.set_title(ax_title[i][j])\n",
    "        ax.set_ylabel(y_axis_label)\n",
    "        ax.set_xlabel(x_axis_label)\n",
    "        despine(ax)\n",
    "plt.tight_layout(pad=3)"
   ]
  }
 ],
 "metadata": {
  "kernelspec": {
   "display_name": "Python 3",
   "language": "python",
   "name": "python3"
  },
  "language_info": {
   "codemirror_mode": {
    "name": "ipython",
    "version": 3
   },
   "file_extension": ".py",
   "mimetype": "text/x-python",
   "name": "python",
   "nbconvert_exporter": "python",
   "pygments_lexer": "ipython3",
   "version": "3.8.0"
  },
  "varInspector": {
   "cols": {
    "lenName": 16,
    "lenType": 16,
    "lenVar": 40
   },
   "kernels_config": {
    "python": {
     "delete_cmd_postfix": "",
     "delete_cmd_prefix": "del ",
     "library": "var_list.py",
     "varRefreshCmd": "print(var_dic_list())"
    },
    "r": {
     "delete_cmd_postfix": ") ",
     "delete_cmd_prefix": "rm(",
     "library": "var_list.r",
     "varRefreshCmd": "cat(var_dic_list()) "
    }
   },
   "types_to_exclude": [
    "module",
    "function",
    "builtin_function_or_method",
    "instance",
    "_Feature"
   ],
   "window_display": false
  }
 },
 "nbformat": 4,
 "nbformat_minor": 2
}
