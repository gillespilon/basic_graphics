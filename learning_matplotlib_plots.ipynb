{
 "cells": [
  {
   "cell_type": "markdown",
   "metadata": {},
   "source": [
    "# Learning matplotlib\n",
    "\n",
    "The purpose of this notebook is to learn how to do matplotlib graphs."
   ]
  },
  {
   "cell_type": "code",
   "execution_count": null,
   "metadata": {},
   "outputs": [],
   "source": [
    "import pandas as pd\n",
    "import matplotlib.pyplot as plt\n",
    "import matplotlib.axes as axes\n",
    "from matplotlib.gridspec import GridSpec\n",
    "from matplotlib.dates import DateFormatter, DayLocator\n",
    "from matplotlib.ticker import NullFormatter, NullLocator\n",
    "\n",
    "%matplotlib inline\n",
    "%config InlineBackend.figure_format ='svg'"
   ]
  },
  {
   "cell_type": "code",
   "execution_count": null,
   "metadata": {},
   "outputs": [],
   "source": [
    "def despine(ax: axes.Axes) -> None:\n",
    "    '''\n",
    "    Remove the top and right spines of a graph.\n",
    "\n",
    "    Used to enforce standard and *correct* style. There is only one x,\n",
    "    and one y axis, left and bottom, therefore there should only be\n",
    "    these axes.\n",
    "    '''\n",
    "    for spine in 'right', 'top':\n",
    "        ax.spines[spine].set_visible(False)"
   ]
  },
  {
   "cell_type": "code",
   "execution_count": null,
   "metadata": {},
   "outputs": [],
   "source": [
    "fighw = (8, 6)\n",
    "fig_title = 'Figure title'\n",
    "ax_title = 'Axes title'\n",
    "x_axis_label = 'X axis label (units)'\n",
    "y_axis_label = 'Y axis label (units)'"
   ]
  },
  {
   "cell_type": "code",
   "execution_count": null,
   "metadata": {},
   "outputs": [],
   "source": [
    "pd.plotting.register_matplotlib_converters(explicit=True)"
   ]
  },
  {
   "cell_type": "code",
   "execution_count": null,
   "metadata": {},
   "outputs": [],
   "source": [
    "# df = pd.read_csv('weight.csv', parse_dates=['Date'], index_col='Date')\n",
    "df = pd.read_csv('weight.csv', parse_dates=['Date'])"
   ]
  },
  {
   "cell_type": "code",
   "execution_count": null,
   "metadata": {},
   "outputs": [],
   "source": [
    "df.head()"
   ]
  },
  {
   "cell_type": "code",
   "execution_count": null,
   "metadata": {},
   "outputs": [],
   "source": [
    "df.index"
   ]
  },
  {
   "cell_type": "code",
   "execution_count": null,
   "metadata": {},
   "outputs": [],
   "source": [
    "df.dtypes"
   ]
  },
  {
   "cell_type": "markdown",
   "metadata": {},
   "source": [
    "# Single figure, single axes"
   ]
  },
  {
   "cell_type": "code",
   "execution_count": null,
   "metadata": {},
   "outputs": [],
   "source": [
    "fig = plt.figure(figsize=fighw)\n",
    "fig.suptitle(fig_title, fontweight='bold')\n",
    "ax = fig.add_subplot(111)\n",
    "ax.plot(df['Date'], df['Steps'],\n",
    "        marker='o', linestyle='-', color='g')\n",
    "ax.set_ylabel(y_axis_label, fontweight='bold')\n",
    "ax.set_xlabel(x_axis_label, fontweight='bold')\n",
    "ax.set_title(ax_title, fontweight='bold')\n",
    "ax.xaxis.set_major_locator(DayLocator())\n",
    "ax.xaxis.set_minor_locator(NullLocator())\n",
    "ax.xaxis.set_major_formatter(DateFormatter('%m-%d'))\n",
    "ax.xaxis.set_minor_formatter(NullFormatter())\n",
    "despine(ax)"
   ]
  },
  {
   "cell_type": "markdown",
   "metadata": {},
   "source": [
    "## Single figure, single axes, left y axis, right y axis"
   ]
  },
  {
   "cell_type": "code",
   "execution_count": null,
   "metadata": {},
   "outputs": [],
   "source": [
    "fig, ax1 = plt.subplots(figsize=(8, 6))\n",
    "fig.suptitle(fig_title, fontweight='bold')\n",
    "ax1.plot(df['Date'], df['Actual'],\n",
    "         marker='o', linestyle='None', color='r')\n",
    "# ax.autoscale(enable=True)\n",
    "ax1.set_ylabel('Left vertical axis (units)', fontweight='bold')\n",
    "ax1.set_xlabel(x_axis_label, fontweight='bold')\n",
    "ax2 = ax1.twinx()\n",
    "ax2.plot(df['Date'], df['Steps'],\n",
    "         marker='*', linestyle='-', color='b')\n",
    "ax2.set_ylabel('Right vertical axis (units)', fontweight='bold')\n",
    "ax2.xaxis.set_major_locator(DayLocator())\n",
    "ax2.xaxis.set_minor_locator(NullLocator())\n",
    "ax2.xaxis.set_major_formatter(DateFormatter('%m-%d'))\n",
    "ax2.xaxis.set_minor_formatter(NullFormatter())"
   ]
  }
 ],
 "metadata": {
  "kernelspec": {
   "display_name": "Python 3",
   "language": "python",
   "name": "python3"
  },
  "language_info": {
   "codemirror_mode": {
    "name": "ipython",
    "version": 3
   },
   "file_extension": ".py",
   "mimetype": "text/x-python",
   "name": "python",
   "nbconvert_exporter": "python",
   "pygments_lexer": "ipython3",
   "version": "3.8.0"
  },
  "varInspector": {
   "cols": {
    "lenName": 16,
    "lenType": 16,
    "lenVar": 40
   },
   "kernels_config": {
    "python": {
     "delete_cmd_postfix": "",
     "delete_cmd_prefix": "del ",
     "library": "var_list.py",
     "varRefreshCmd": "print(var_dic_list())"
    },
    "r": {
     "delete_cmd_postfix": ") ",
     "delete_cmd_prefix": "rm(",
     "library": "var_list.r",
     "varRefreshCmd": "cat(var_dic_list()) "
    }
   },
   "types_to_exclude": [
    "module",
    "function",
    "builtin_function_or_method",
    "instance",
    "_Feature"
   ],
   "window_display": false
  }
 },
 "nbformat": 4,
 "nbformat_minor": 2
}
