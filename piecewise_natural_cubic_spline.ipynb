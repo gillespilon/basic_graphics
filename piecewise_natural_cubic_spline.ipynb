{
 "cells": [
  {
   "cell_type": "markdown",
   "metadata": {},
   "source": [
    "# Piecewise natural cubic spline"
   ]
  },
  {
   "cell_type": "markdown",
   "metadata": {},
   "source": [
    "<img src='xkcd_curve_fitting.png' style=\"float:center; width:500px\" />"
   ]
  },
  {
   "cell_type": "code",
   "execution_count": 1,
   "metadata": {},
   "outputs": [],
   "source": [
    "from datetime import datetime\n",
    "from multiprocessing import Pool\n",
    "import matplotlib.axes as axes\n",
    "import matplotlib.cm as cm\n",
    "import matplotlib.pyplot as plt\n",
    "import numpy as np\n",
    "import pandas as pd\n",
    "from sklearn.base import BaseEstimator, TransformerMixin\n",
    "from sklearn.linear_model import LinearRegression\n",
    "from sklearn.pipeline import Pipeline"
   ]
  },
  {
   "cell_type": "code",
   "execution_count": 2,
   "metadata": {},
   "outputs": [],
   "source": [
    "start_time = datetime.now()"
   ]
  },
  {
   "cell_type": "code",
   "execution_count": 3,
   "metadata": {},
   "outputs": [],
   "source": [
    "# Data set must not contain NaN, inf, or -inf\n",
    "file_name = 'dataframe_small_integer_integer_clean.csv'\n",
    "figure_width_height = (6, 4)\n",
    "x_axis_label = 'Abscissa'\n",
    "y_axis_label = 'Ordinate'\n",
    "axis_title = 'Piecewise natural cubic spline'\n",
    "num_knots = [\n",
    "    10, 20, 30, 40, 50, 60, 70, 80, 90, 100,\n",
    "    110, 120, 130, 140, 150, 160, 170, 180, 190, 200\n",
    "]\n",
    "c = cm.Paired.colors\n",
    "%matplotlib inline\n",
    "%config InlineBackend.figure_format = 'svg'"
   ]
  },
  {
   "cell_type": "code",
   "execution_count": 4,
   "metadata": {},
   "outputs": [],
   "source": [
    "def main():\n",
    "    data = pd.read_csv(file_name)\n",
    "    global x, y, min_val, max_val\n",
    "    x = data['abscissa']\n",
    "    y = data['ordinate']\n",
    "    min_val=min(x)\n",
    "    max_val=max(x)\n",
    "    with Pool() as pool:\n",
    "        for _ in pool.imap_unordered(plot_cubic_thing, num_knots):\n",
    "            pass"
   ]
  },
  {
   "cell_type": "code",
   "execution_count": 5,
   "metadata": {},
   "outputs": [],
   "source": [
    "def plot_cubic_thing(numknots):\n",
    "    model = natural_cubic_spline(\n",
    "        x, y, min_val, max_val, n_knots=numknots\n",
    "    )\n",
    "    fig = plt.figure(figsize=figure_width_height)\n",
    "    ax = fig.add_subplot(111)\n",
    "    ax.plot(x, y, ls='', marker='.', color=c[1])\n",
    "    ax.plot(\n",
    "        x, model.predict(x), marker='', color=c[5],\n",
    "        label=f'number knots = {numknots}'\n",
    "    )\n",
    "    ax.legend(frameon=False, loc='best')\n",
    "    ax.set_title(axis_title, fontweight='bold')\n",
    "    ax.set_xlabel(x_axis_label, fontweight='bold')\n",
    "    ax.set_ylabel(y_axis_label, fontweight='bold')\n",
    "    despine(ax)\n",
    "    ax.figure.savefig(f'natural_cubic_spline_{numknots}.svg', format='svg')"
   ]
  },
  {
   "cell_type": "code",
   "execution_count": 6,
   "metadata": {},
   "outputs": [],
   "source": [
    "def despine(ax: axes.Axes) -> None:\n",
    "    '''\n",
    "    Remove the top and right spines of a graph.\n",
    "\n",
    "    There is only one x axis, on the bottom, and one y axis, on the left.\n",
    "    '''\n",
    "    for spine in 'right', 'top':\n",
    "        ax.spines[spine].set_visible(False)"
   ]
  },
  {
   "cell_type": "code",
   "execution_count": 7,
   "metadata": {},
   "outputs": [],
   "source": [
    "def natural_cubic_spline(x, y, minval=None, maxval=None, n_knots=None, knots=None):\n",
    "    '''\n",
    "    Natural cubic spline model\n",
    "\n",
    "    For the knots, give (a) `knots` (as an array) or\n",
    "    (b) minval, maxval and n_knots.\n",
    "\n",
    "    If the knots are not directly specified, the resulting knots are\n",
    "    equally-spaced within the *interior* of (max, min).  That is,\n",
    "    the endpoints are *not* included as knots.\n",
    "\n",
    "    Parameters\n",
    "    ----------\n",
    "    x: np.array of float; the input data\n",
    "    y: np.array of float; the outpur data\n",
    "    minval: float; minimum of interval containing the knots.\n",
    "    maxval: float ; maximum of the interval containing the knots.\n",
    "    n_knots: positive integer; the number of knots to create.\n",
    "    knots: array or list of floats; the knots.\n",
    "\n",
    "    Returns\n",
    "    --------\n",
    "    model: a model object\n",
    "        The returned model will have following method:\n",
    "        - predict(x):\n",
    "            x is a numpy array. This will return the predicted\n",
    "            y-values.\n",
    "    '''\n",
    "    if knots:\n",
    "        spline = NaturalCubicSpline(knots=knots)\n",
    "    else:\n",
    "        spline = NaturalCubicSpline(max=maxval, min=minval, n_knots=n_knots)\n",
    "\n",
    "    p = Pipeline([\n",
    "        ('nat_cubic', spline),\n",
    "        ('regression', LinearRegression(fit_intercept=True))\n",
    "    ])\n",
    "\n",
    "    p.fit(x, y)\n",
    "\n",
    "    return p\n",
    "\n",
    "\n",
    "class AbstractSpline(BaseEstimator, TransformerMixin):\n",
    "    \"\"\"Base class for all spline basis expansions.\"\"\"\n",
    "\n",
    "    def __init__(self, max=None, min=None, n_knots=None, n_params=None, knots=None):\n",
    "        if knots is None:\n",
    "            if not n_knots:\n",
    "                n_knots = self._compute_n_knots(n_params)\n",
    "            knots = np.linspace(min, max, num=(n_knots + 2))[1:-1]\n",
    "            max, min = np.max(knots), np.min(knots)\n",
    "        self.knots = np.asarray(knots)\n",
    "\n",
    "    @property\n",
    "    def n_knots(self):\n",
    "        return len(self.knots)\n",
    "\n",
    "    def fit(self, *args, **kwargs):\n",
    "        return self\n",
    "\n",
    "\n",
    "class NaturalCubicSpline(AbstractSpline):\n",
    "    \"\"\"Apply a natural cubic basis expansion to an array.\n",
    "    The features created with this basis expansion can be used to fit a\n",
    "    piecewise cubic function under the constraint that the fitted curve is\n",
    "    linear *outside* the range of the knots..  The fitted curve is continuously\n",
    "    differentiable to the second order at all of the knots.\n",
    "    This transformer can be created in two ways:\n",
    "      - By specifying the maximum, minimum, and number of knots.\n",
    "      - By specifying the cutpoints directly.  \n",
    "\n",
    "    If the knots are not directly specified, the resulting knots are equally\n",
    "    space within the *interior* of (max, min).  That is, the endpoints are\n",
    "    *not* included as knots.\n",
    "    Parameters\n",
    "    ----------\n",
    "    min: float \n",
    "        Minimum of interval containing the knots.\n",
    "    max: float \n",
    "        Maximum of the interval containing the knots.\n",
    "    n_knots: positive integer \n",
    "        The number of knots to create.\n",
    "    knots: array or list of floats \n",
    "        The knots.\n",
    "    \"\"\"\n",
    "\n",
    "    def _compute_n_knots(self, n_params):\n",
    "        return n_params\n",
    "\n",
    "    @property\n",
    "    def n_params(self):\n",
    "        return self.n_knots - 1\n",
    "\n",
    "    def transform(self, X, **transform_params):\n",
    "        X_spl = self._transform_array(X)\n",
    "        if isinstance(X, pd.Series):\n",
    "            col_names = self._make_names(X)\n",
    "            X_spl = pd.DataFrame(X_spl, columns=col_names, index=X.index)\n",
    "        return X_spl\n",
    "\n",
    "    def _make_names(self, X):\n",
    "        first_name = \"{}_spline_linear\".format(X.name)\n",
    "        rest_names = [\"{}_spline_{}\".format(X.name, idx)\n",
    "                      for idx in range(self.n_knots - 2)]\n",
    "        return [first_name] + rest_names\n",
    "\n",
    "    def _transform_array(self, X, **transform_params):\n",
    "        X = X.squeeze()\n",
    "        try:\n",
    "            X_spl = np.zeros((X.shape[0], self.n_knots - 1))\n",
    "        except IndexError: # For arrays with only one element\n",
    "            X_spl = np.zeros((1, self.n_knots - 1))\n",
    "        X_spl[:, 0] = X.squeeze()\n",
    "\n",
    "        def d(knot_idx, x):\n",
    "            def ppart(t): return np.maximum(0, t)\n",
    "\n",
    "            def cube(t): return t*t*t\n",
    "            numerator = (cube(ppart(x - self.knots[knot_idx]))\n",
    "                         - cube(ppart(x - self.knots[self.n_knots - 1])))\n",
    "            denominator = self.knots[self.n_knots - 1] - self.knots[knot_idx]\n",
    "            return numerator / denominator\n",
    "\n",
    "        for i in range(0, self.n_knots - 2):\n",
    "            X_spl[:, i+1] = (d(i, X) - d(self.n_knots - 2, X)).squeeze()\n",
    "        return X_spl"
   ]
  },
  {
   "cell_type": "code",
   "execution_count": 8,
   "metadata": {
    "scrolled": false
   },
   "outputs": [],
   "source": [
    "if __name__ == '__main__':\n",
    "    main()"
   ]
  },
  {
   "cell_type": "code",
   "execution_count": 9,
   "metadata": {},
   "outputs": [
    {
     "data": {
      "text/plain": [
       "6.713"
      ]
     },
     "execution_count": 9,
     "metadata": {},
     "output_type": "execute_result"
    }
   ],
   "source": [
    "end_time = datetime.now()\n",
    "round((end_time - start_time).total_seconds(), 3)"
   ]
  }
 ],
 "metadata": {
  "kernelspec": {
   "display_name": "Python 3",
   "language": "python",
   "name": "python3"
  },
  "language_info": {
   "codemirror_mode": {
    "name": "ipython",
    "version": 3
   },
   "file_extension": ".py",
   "mimetype": "text/x-python",
   "name": "python",
   "nbconvert_exporter": "python",
   "pygments_lexer": "ipython3",
   "version": "3.8.3"
  }
 },
 "nbformat": 4,
 "nbformat_minor": 2
}
