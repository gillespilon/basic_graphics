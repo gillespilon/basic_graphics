{
 "cells": [
  {
   "cell_type": "markdown",
   "metadata": {},
   "source": [
    "# Piecewise natural cubic spline"
   ]
  },
  {
   "cell_type": "markdown",
   "metadata": {},
   "source": [
    "<img src='xkcd_curve_fitting.png' style=\"float:center; width:500px\" />"
   ]
  },
  {
   "cell_type": "code",
   "execution_count": 1,
   "metadata": {},
   "outputs": [],
   "source": [
    "from datetime import datetime\n",
    "from multiprocessing import Pool\n",
    "from typing import List\n",
    "import basis_expansions as bsx\n",
    "import matplotlib.axes as axes\n",
    "import matplotlib.cm as cm\n",
    "import matplotlib.pyplot as plt\n",
    "import numpy as np\n",
    "import pandas as pd\n",
    "from sklearn.base import BaseEstimator, TransformerMixin\n",
    "from sklearn.linear_model import LinearRegression\n",
    "from sklearn.pipeline import Pipeline"
   ]
  },
  {
   "cell_type": "code",
   "execution_count": 2,
   "metadata": {},
   "outputs": [],
   "source": [
    "start_time = datetime.now()"
   ]
  },
  {
   "cell_type": "code",
   "execution_count": 3,
   "metadata": {},
   "outputs": [],
   "source": [
    "# Data set must not contain NaN, inf, or -inf\n",
    "file_name = 'predicted.csv'\n",
    "figure_width_height = (6, 4)\n",
    "x_axis_label = 'Abscissa'\n",
    "y_axis_label = 'Ordinate'\n",
    "axis_title = 'Piecewise natural cubic spline'\n",
    "# Change this list to try different amounts of smoothing\n",
    "num_knots = [\n",
    "    10, 20, 30, 40, 50, 60, 70, 80, 90, 100,\n",
    "    110, 120, 130, 140, 150, 160, 170, 180, 190, 200,\n",
    "]\n",
    "c = cm.Paired.colors\n",
    "%matplotlib inline\n",
    "%config InlineBackend.figure_format = 'svg'"
   ]
  },
  {
   "cell_type": "code",
   "execution_count": 4,
   "metadata": {},
   "outputs": [],
   "source": [
    "def main():\n",
    "    data = pd.read_csv(file_name)\n",
    "    global x, y, min_val, max_val\n",
    "    x = data['abscissa']\n",
    "    y = data['ordinate']\n",
    "    min_val=min(x)\n",
    "    max_val=max(x)\n",
    "    with Pool() as pool:\n",
    "        for _ in pool.imap_unordered(plot_cubic_thing, num_knots):\n",
    "            pass"
   ]
  },
  {
   "cell_type": "code",
   "execution_count": 5,
   "metadata": {},
   "outputs": [],
   "source": [
    "def plot_cubic_thing(numknots: List[int]) -> None:\n",
    "    model = get_natural_cubic_spline(\n",
    "        x, y, min_val, max_val, n_knots=numknots\n",
    "    )\n",
    "    fig = plt.figure(figsize=figure_width_height)\n",
    "    ax = fig.add_subplot(111)\n",
    "    ax.plot(x, y, ls='', marker='.', color=c[1], alpha=0.20)\n",
    "    ax.plot(\n",
    "        x, model.predict(x), marker='', color=c[5],\n",
    "        label=f'number knots = {numknots}'\n",
    "    )\n",
    "    ax.legend(frameon=False, loc='best')\n",
    "    ax.set_title(axis_title, fontweight='bold')\n",
    "    ax.set_xlabel(x_axis_label, fontweight='bold')\n",
    "    ax.set_ylabel(y_axis_label, fontweight='bold')\n",
    "    despine(ax)\n",
    "    ax.figure.savefig(f'natural_cubic_spline_{numknots}.svg', format='svg')"
   ]
  },
  {
   "cell_type": "code",
   "execution_count": 6,
   "metadata": {},
   "outputs": [],
   "source": [
    "def despine(ax: axes.Axes) -> None:\n",
    "    '''\n",
    "    Remove the top and right spines of a graph.\n",
    "\n",
    "    There is only one x axis, on the bottom, and one y axis, on the left.\n",
    "    '''\n",
    "    for spine in 'right', 'top':\n",
    "        ax.spines[spine].set_visible(False)"
   ]
  },
  {
   "cell_type": "code",
   "execution_count": 7,
   "metadata": {},
   "outputs": [],
   "source": [
    "def get_natural_cubic_spline(x, y, minval=None, maxval=None, n_knots=None, knots=None):\n",
    "    '''\n",
    "    Natural cubic spline model\n",
    "\n",
    "    For the knots, give (a) `knots` (as an array) or\n",
    "    (b) minval, maxval and n_knots.\n",
    "\n",
    "    If the knots are not directly specified, the resulting knots are\n",
    "    equally-spaced within the *interior* of (max, min).  That is,\n",
    "    the endpoints are *not* included as knots.\n",
    "\n",
    "    Parameters\n",
    "    ----------\n",
    "    x: np.array of float; the input data\n",
    "    y: np.array of float; the outpur data\n",
    "    minval: float; minimum of interval containing the knots.\n",
    "    maxval: float ; maximum of the interval containing the knots.\n",
    "    n_knots: positive integer; the number of knots to create.\n",
    "    knots: array or list of floats; the knots.\n",
    "\n",
    "    Returns\n",
    "    --------\n",
    "    model: a model object\n",
    "        The returned model will have following method:\n",
    "        - predict(x):\n",
    "            x is a numpy array. This will return the predicted\n",
    "            y-values.\n",
    "    '''\n",
    "    if knots:\n",
    "        spline = bsx.NaturalCubicSpline(knots=knots)\n",
    "    else:\n",
    "        spline = bsx.NaturalCubicSpline(max=maxval, min=minval, n_knots=n_knots)\n",
    "\n",
    "    p = Pipeline([\n",
    "        ('nat_cubic', spline),\n",
    "        ('regression', LinearRegression(fit_intercept=True))\n",
    "    ])\n",
    "\n",
    "    p.fit(x, y)\n",
    "\n",
    "    return p"
   ]
  },
  {
   "cell_type": "code",
   "execution_count": 8,
   "metadata": {
    "scrolled": false
   },
   "outputs": [],
   "source": [
    "if __name__ == '__main__':\n",
    "    main()"
   ]
  },
  {
   "cell_type": "code",
   "execution_count": 9,
   "metadata": {},
   "outputs": [
    {
     "data": {
      "text/plain": [
       "2.239"
      ]
     },
     "execution_count": 9,
     "metadata": {},
     "output_type": "execute_result"
    }
   ],
   "source": [
    "end_time = datetime.now()\n",
    "round((end_time - start_time).total_seconds(), 3)"
   ]
  },
  {
   "cell_type": "markdown",
   "metadata": {},
   "source": [
    "# References\n",
    "\n",
    "- [Wikipedia Smoothing spline](https://en.wikipedia.org/wiki/Smoothing_spline)"
   ]
  }
 ],
 "metadata": {
  "kernelspec": {
   "display_name": "Python 3",
   "language": "python",
   "name": "python3"
  },
  "language_info": {
   "codemirror_mode": {
    "name": "ipython",
    "version": 3
   },
   "file_extension": ".py",
   "mimetype": "text/x-python",
   "name": "python",
   "nbconvert_exporter": "python",
   "pygments_lexer": "ipython3",
   "version": "3.8.3"
  }
 },
 "nbformat": 4,
 "nbformat_minor": 2
}
