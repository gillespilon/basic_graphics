{
 "cells": [
  {
   "cell_type": "markdown",
   "metadata": {},
   "source": [
    "# Piecewise natural cubic spline"
   ]
  },
  {
   "cell_type": "markdown",
   "metadata": {},
   "source": [
    "<img src='xkcd_curve_fitting.png' style=\"float:center; width:500px\" />"
   ]
  },
  {
   "cell_type": "markdown",
   "metadata": {},
   "source": [
    "A piecewise natural cubic spline (cubic curves in the interior segments, linear in the exterior segments) is used to interpolate points to fit the data while smoothing out the noise. A large number of data are fitted with low-degree polynomials, to eliminate excessive oscillations and non-convergence."
   ]
  },
  {
   "cell_type": "code",
   "execution_count": 1,
   "metadata": {},
   "outputs": [],
   "source": [
    "from datetime import datetime\n",
    "from multiprocessing import Pool\n",
    "from pathlib import Path\n",
    "from shutil import rmtree\n",
    "from typing import List, Tuple\n",
    "import itertools\n",
    "import sys\n",
    "import basis_expansions as bsx\n",
    "import matplotlib.axes as axes\n",
    "import matplotlib.cm as cm\n",
    "import matplotlib.pyplot as plt\n",
    "import pandas as pd\n",
    "from sklearn.linear_model import LinearRegression\n",
    "from sklearn.pipeline import Pipeline"
   ]
  },
  {
   "cell_type": "code",
   "execution_count": 2,
   "metadata": {},
   "outputs": [],
   "source": [
    "start_time = datetime.now()"
   ]
  },
  {
   "cell_type": "code",
   "execution_count": 3,
   "metadata": {},
   "outputs": [],
   "source": [
    "# Data set must not contain NaN, inf, or -inf\n",
    "parameters = pd.read_excel(\n",
    "    'parameters.ods', engine='odf', index_col=False\n",
    ")\n",
    "file_names = [x for x in parameters['File names']\n",
    "              if str(x) != 'nan']\n",
    "targets = [x for x in parameters['Targets']\n",
    "           if str(x) != 'nan']\n",
    "features = [x for x in parameters['Features']\n",
    "            if str(x) != 'nan']\n",
    "num_knots = [int(x) for x in parameters['Number of knots']\n",
    "             if str(x) != 'nan']\n",
    "graphics_directory = 'piecewise_natural_cubic_spline_graphs'\n",
    "figure_width_height = (9, 5)\n",
    "x_axis_label = 'Abscissa'\n",
    "y_axis_label = 'Ordinate'\n",
    "axis_title = 'Piecewise natural cubic spline'\n",
    "c = cm.Paired.colors\n",
    "%matplotlib inline\n",
    "%config InlineBackend.figure_format = 'svg'"
   ]
  },
  {
   "cell_type": "code",
   "execution_count": 4,
   "metadata": {},
   "outputs": [],
   "source": [
    "def main():\n",
    "    original_stdout = sys.stdout\n",
    "    sys.stdout = open('view_spline_graphs.html', 'w')\n",
    "    html_header()\n",
    "    for file, target, feature in itertools.product(\n",
    "        file_names, targets, features\n",
    "    ):\n",
    "        data = pd.read_csv(file)\n",
    "        x = data[feature]\n",
    "        y = data[target]\n",
    "        min_val=min(x)\n",
    "        max_val=max(x)\n",
    "        t = ((x, y, min_val, max_val, file, target, feature, knot)\n",
    "             for knot in num_knots)\n",
    "        with Pool() as pool:\n",
    "            for _ in pool.imap_unordered(plot_scatter_line, t):\n",
    "                pass\n",
    "        for knot in num_knots:\n",
    "            print(\n",
    "                f'<p><img src=\"{graphics_directory}/'\n",
    "                f'spline_{file.strip(\".csv\")}_'\n",
    "                f'{target}_{feature}_{knot}.svg\"/></p>'\n",
    "            )\n",
    "    html_footer()"
   ]
  },
  {
   "cell_type": "code",
   "execution_count": 5,
   "metadata": {},
   "outputs": [],
   "source": [
    "def set_up_graphics_directory(graphdir: str) -> None:\n",
    "    '''\n",
    "    Create an empty directory\n",
    "    '''\n",
    "    try:\n",
    "        rmtree(graphdir)\n",
    "    except Exception:\n",
    "        pass\n",
    "    Path(graphdir).mkdir(parents=True, exist_ok=True)"
   ]
  },
  {
   "cell_type": "code",
   "execution_count": 6,
   "metadata": {},
   "outputs": [],
   "source": [
    "def html_header():\n",
    "    print('<!DOCTYPE html>')\n",
    "    print('<html lang=\"\" xml:lang=\"\" xmlns=\"http://www.w3.org/1999/xhtml\">')\n",
    "    print('<head>')\n",
    "    print('<meta charset=\"utf-8\"/>')\n",
    "    print(\n",
    "        '<meta content=\"width=device-width, initial-scale=1.0, '\n",
    "        'user-scalable=yes\" name=\"viewport\"/>'\n",
    "    )\n",
    "    print('<title>Piecewise natural cubic spline graphs</title>')\n",
    "    print('</head>')\n",
    "    print('<body>')\n",
    "    print(\n",
    "        '<h1 class=\"title\"'\n",
    "        ' id=\"piecewise-natural-cubic-spline-graphs\">'\n",
    "        'Piecewise natural cubic spline graphs</h1>'\n",
    "    )"
   ]
  },
  {
   "cell_type": "code",
   "execution_count": 7,
   "metadata": {},
   "outputs": [],
   "source": [
    "def html_footer():\n",
    "    print('</body>')\n",
    "    print('</html>')"
   ]
  },
  {
   "cell_type": "code",
   "execution_count": 8,
   "metadata": {},
   "outputs": [],
   "source": [
    "def plot_scatter_line(t: Tuple[str, str]) -> None:\n",
    "    x, y, min_val, max_val, file, target, feature, numknots = t\n",
    "    model = get_natural_cubic_spline(\n",
    "        x, y, min_val, max_val, n_knots=numknots\n",
    "    )\n",
    "    fig = plt.figure(figsize=figure_width_height)\n",
    "    ax = fig.add_subplot(111)\n",
    "    ax.plot(x, y, ls='', marker='.', color=c[1], alpha=0.20)\n",
    "    ax.plot(\n",
    "        x, model.predict(x), marker='', color=c[5],\n",
    "        label=f'number knots = {numknots}'\n",
    "    )\n",
    "    ax.legend(frameon=False, loc='best')\n",
    "    ax.set_title(\n",
    "        f'{axis_title}\\n'\n",
    "        f'file: {file} '\n",
    "        f'column: {target}'\n",
    "    )\n",
    "    ax.set_xlabel(x_axis_label)\n",
    "    ax.set_ylabel(y_axis_label)\n",
    "    despine(ax)\n",
    "    ax.figure.savefig(\n",
    "        f'{graphics_directory}'\n",
    "        f'/spline_'\n",
    "        f'{file.strip(\".csv\")}_'\n",
    "        f'{target}_{feature}_'\n",
    "        f'{numknots}.svg',\n",
    "        format='svg'\n",
    "    )"
   ]
  },
  {
   "cell_type": "code",
   "execution_count": 9,
   "metadata": {},
   "outputs": [],
   "source": [
    "def despine(ax: axes.Axes) -> None:\n",
    "    '''\n",
    "    Remove the top and right spines of a graph.\n",
    "\n",
    "    There is only one x axis, on the bottom, and one y axis,\n",
    "    on the left.\n",
    "    '''\n",
    "    for spine in 'right', 'top':\n",
    "        ax.spines[spine].set_visible(False)"
   ]
  },
  {
   "cell_type": "code",
   "execution_count": 10,
   "metadata": {},
   "outputs": [],
   "source": [
    "def get_natural_cubic_spline(\n",
    "    x: pd.Series,\n",
    "    y: pd.Series,\n",
    "    minval: int=None,\n",
    "    maxval: int=None,\n",
    "    n_knots: int=None,\n",
    "    knots: List[int]=None\n",
    "):\n",
    "    '''\n",
    "    Natural cubic spline model\n",
    "\n",
    "    For the knots, give (a) `knots` (as an array) or\n",
    "    (b) minval, maxval and n_knots.\n",
    "\n",
    "    If the knots are not directly specified, the resulting knots are\n",
    "    equally-spaced within the *interior* of (max, min).  That is,\n",
    "    the endpoints are *not* included as knots.\n",
    "\n",
    "    Parameters\n",
    "    ----------\n",
    "    x: pd.Series\n",
    "    y: pd.Series\n",
    "    minval: minimum of interval containing the knots.\n",
    "    maxval: maximum of the interval containing the knots.\n",
    "    n_knots: the number of knots to create.\n",
    "    knots: the knots.\n",
    "\n",
    "    Returns\n",
    "    --------\n",
    "    model: a model object\n",
    "        The returned model will have following method:\n",
    "        - predict(x):\n",
    "            x is a numpy array. This will return the predicted\n",
    "            y-values.\n",
    "    '''\n",
    "    if knots:\n",
    "        spline = bsx.NaturalCubicSpline(knots=knots)\n",
    "    else:\n",
    "        spline = bsx.NaturalCubicSpline(\n",
    "            max=maxval, min=minval, n_knots=n_knots\n",
    "        )\n",
    "    p = Pipeline([\n",
    "        ('natural_cubic_spline', spline),\n",
    "        ('linear_regression', LinearRegression(fit_intercept=True))\n",
    "    ])\n",
    "    p.fit(x, y)\n",
    "    return p"
   ]
  },
  {
   "cell_type": "code",
   "execution_count": 11,
   "metadata": {
    "scrolled": false
   },
   "outputs": [],
   "source": [
    "if __name__ == '__main__':\n",
    "    main()"
   ]
  },
  {
   "cell_type": "code",
   "execution_count": 12,
   "metadata": {},
   "outputs": [
    {
     "data": {
      "text/plain": [
       "2.064"
      ]
     },
     "execution_count": 12,
     "metadata": {},
     "output_type": "execute_result"
    }
   ],
   "source": [
    "end_time = datetime.now()\n",
    "round((end_time - start_time).total_seconds(), 3)"
   ]
  },
  {
   "cell_type": "markdown",
   "metadata": {},
   "source": [
    "# References\n",
    "\n",
    "- [Drury, Matthew. Basis Expansions](https://github.com/madrury/basis-expansions)\n",
    "\n",
    "- [Leal, Lois Anne. Numerical Interpolation: Natural Cubic Spline](https://towardsdatascience.com/numerical-interpolation-natural-cubic-spline-52c1157b98ac)\n",
    "\n",
    "- [SAS/GRAPH SYMBOL Statement (INTERPOL=SM&lt;nn&gt;&lt;P&gt;&lt;S&gt;)](https://documentation.sas.com/?docsetId=graphref&docsetTarget=n0c0j84n1e2jz9n1bhkn41o3v0d6.htm&docsetVersion=9.4&locale=en#p115cutvcmx2dln1cdo96duwmxru)\n",
    "\n",
    "- [Wikipedia. Smoothing spline](https://en.wikipedia.org/wiki/Smoothing_spline)\n",
    "\n",
    "- [Wikipedia. Spline (mathematics)](https://en.wikipedia.org/wiki/Spline_(mathematics))"
   ]
  }
 ],
 "metadata": {
  "kernelspec": {
   "display_name": "Python 3",
   "language": "python",
   "name": "python3"
  },
  "language_info": {
   "codemirror_mode": {
    "name": "ipython",
    "version": 3
   },
   "file_extension": ".py",
   "mimetype": "text/x-python",
   "name": "python",
   "nbconvert_exporter": "python",
   "pygments_lexer": "ipython3",
   "version": "3.8.3"
  }
 },
 "nbformat": 4,
 "nbformat_minor": 2
}
