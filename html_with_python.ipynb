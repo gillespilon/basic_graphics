{
 "cells": [
  {
   "cell_type": "markdown",
   "metadata": {},
   "source": [
    "# Code required to generate html with Python"
   ]
  },
  {
   "cell_type": "code",
   "execution_count": 1,
   "metadata": {},
   "outputs": [],
   "source": [
    "import webbrowser\n",
    "import sys"
   ]
  },
  {
   "cell_type": "code",
   "execution_count": 2,
   "metadata": {},
   "outputs": [],
   "source": [
    "output_url = 'example.html'\n",
    "header_title = 'Example'\n",
    "header_id = 'example'"
   ]
  },
  {
   "cell_type": "code",
   "execution_count": 3,
   "metadata": {},
   "outputs": [],
   "source": [
    "def main():\n",
    "    original_stdout = sys.stdout\n",
    "    sys.stdout = open(output_url, 'w')\n",
    "    html_header(\n",
    "        headertitle=header_title,\n",
    "        headerid=header_id\n",
    "    )\n",
    "    # Say we want to print two graphs per printer page\n",
    "    print(\n",
    "        '<p>'\n",
    "        '<figure>'\n",
    "        '<img src=\"path_to_your_graph_1.png\" alt=\"alternate text for graph 1\"/>'\n",
    "        '<figcaption>Caption for your graph 1</figcaption>'\n",
    "        '</figure>'\n",
    "        '</p>'\n",
    "    )\n",
    "    print(\n",
    "        '<p>'\n",
    "        '<figure>'\n",
    "        '<img src=\"path_to_your_graph_2.png\" alt=\"alternate text for graph 2\"/>'\n",
    "        '<figcaption>Caption for your graph 2</figcaption>'\n",
    "        '</figure>'\n",
    "        '</p>'\n",
    "    )\n",
    "    page_break()\n",
    "    print(\n",
    "        '<p>'\n",
    "        '<figure>'\n",
    "        '<img src=\"path_to_your_graph_3.png\" alt=\"alternate text for graph 3\"/>'\n",
    "        '<figcaption>Caption for your graph 3</figcaption>'\n",
    "        '</figure>'\n",
    "        '</p>'\n",
    "    )\n",
    "    print(\n",
    "        '<p>'\n",
    "        '<figure>'\n",
    "        '<img src=\"path_to_your_graph_4.png\" alt=\"alternate text for graph 4\"/>'\n",
    "        '<figcaption>Caption for your graph 4</figcaption>'\n",
    "        '</figure>'\n",
    "        '</p>'\n",
    "    )\n",
    "    html_footer()\n",
    "    sys.stdout.close()\n",
    "    sys.stdout = original_stdout\n",
    "    webbrowser.open_new_tab(output_url)"
   ]
  },
  {
   "cell_type": "code",
   "execution_count": 4,
   "metadata": {},
   "outputs": [],
   "source": [
    "def html_header(\n",
    "    headertitle: str = 'Report',\n",
    "    headerid: str = 'report'\n",
    ") -> None:\n",
    "    '''\n",
    "    Creates an html header.\n",
    "    '''\n",
    "\n",
    "    print('<!DOCTYPE html>')\n",
    "    print('<html lang=\"\" xml:lang=\"\" xmlns=\"http://www.w3.org/1999/xhtml\">')\n",
    "    print('<head>')\n",
    "    print('<meta charset=\"utf-8\"/>')\n",
    "    print(\n",
    "        '<meta content=\"width=device-width, initial-scale=1.0, '\n",
    "        'user-scalable=yes\" name=\"viewport\"/>'\n",
    "    )\n",
    "    print('<style type=\"text/css\">@import url(\"support.css\");</style>')\n",
    "    print(f'<title>{headertitle}</title>')\n",
    "    print('</head>')\n",
    "    print('<body>')\n",
    "    print(\n",
    "        f'<h1 class=\"title\"'\n",
    "        f' id=\"{headerid}\">'\n",
    "        f'{headertitle}</h1>'\n",
    "    )\n",
    "    print('<pre style=\"white-space: pre-wrap;\">')"
   ]
  },
  {
   "cell_type": "code",
   "execution_count": 5,
   "metadata": {},
   "outputs": [],
   "source": [
    "def html_footer() -> None:\n",
    "    '''\n",
    "    Creates an html footer.\n",
    "    '''\n",
    "\n",
    "    print('</pre>')\n",
    "    print('</body>')\n",
    "    print('</html>')"
   ]
  },
  {
   "cell_type": "code",
   "execution_count": 6,
   "metadata": {},
   "outputs": [],
   "source": [
    "def page_break():\n",
    "    '''\n",
    "    Create a page break for html output.\n",
    "    '''\n",
    "\n",
    "    print('<p style=\"page-break-after:always\">')\n",
    "    print('<p style=\"page-break-before:always\"')"
   ]
  },
  {
   "cell_type": "code",
   "execution_count": 7,
   "metadata": {},
   "outputs": [],
   "source": [
    "if __name__ == '__main__':\n",
    "    main()"
   ]
  }
 ],
 "metadata": {
  "kernelspec": {
   "display_name": "Python 3",
   "language": "python",
   "name": "python3"
  },
  "language_info": {
   "codemirror_mode": {
    "name": "ipython",
    "version": 3
   },
   "file_extension": ".py",
   "mimetype": "text/x-python",
   "name": "python",
   "nbconvert_exporter": "python",
   "pygments_lexer": "ipython3",
   "version": "3.8.5"
  }
 },
 "nbformat": 4,
 "nbformat_minor": 4
}
