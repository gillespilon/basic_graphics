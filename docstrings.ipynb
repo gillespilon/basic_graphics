{
 "cells": [
  {
   "cell_type": "code",
   "execution_count": 1,
   "metadata": {},
   "outputs": [],
   "source": [
    "def main():\n",
    "    pass"
   ]
  },
  {
   "cell_type": "code",
   "execution_count": 2,
   "metadata": {},
   "outputs": [],
   "source": [
    "def public_fn_with_googley_docstring(name, state=None):\n",
    "    \"\"\"This function does something.\n",
    "\n",
    "    Args:\n",
    "       name (str):  The name to use.\n",
    "\n",
    "    Kwargs:\n",
    "       state (bool): Current state to be in.\n",
    "\n",
    "    Returns:\n",
    "       int.  The return code::\n",
    "\n",
    "          0 -- Success!\n",
    "          1 -- No good.\n",
    "          2 -- Try again.\n",
    "\n",
    "    Raises:\n",
    "       AttributeError, KeyError\n",
    "\n",
    "    A really great idea.  A way you might use me is\n",
    "\n",
    "    >>> print public_fn_with_googley_docstring(name='foo', state=None)\n",
    "    0\n",
    "\n",
    "    BTW, this always returns 0.  **NEVER** use with :class:`MyPublicClass`.\n",
    "\n",
    "    \"\"\"\n",
    "    return 0"
   ]
  },
  {
   "cell_type": "code",
   "execution_count": 3,
   "metadata": {},
   "outputs": [],
   "source": [
    "def public_fn_with_sphinxy_docstring(name, state=None):\n",
    "    \"\"\"This function does something.\n",
    "\n",
    "    :param name: The name to use.\n",
    "    :type name: str.\n",
    "    :param state: Current state to be in.\n",
    "    :type state: bool.\n",
    "    :returns:  int -- the return code.\n",
    "    :raises: AttributeError, KeyError\n",
    "\n",
    "    \"\"\"\n",
    "    return 0"
   ]
  },
  {
   "cell_type": "code",
   "execution_count": 4,
   "metadata": {},
   "outputs": [],
   "source": [
    "def public_fn_without_docstring():\n",
    "    return True"
   ]
  },
  {
   "cell_type": "code",
   "execution_count": 5,
   "metadata": {},
   "outputs": [],
   "source": [
    "def _private_fn_with_docstring(foo, bar='baz', foobarbas=None):\n",
    "    \"\"\"I have a docstring, but won't be imported if you just use ``:members:``.\n",
    "    \"\"\"\n",
    "    return None"
   ]
  },
  {
   "cell_type": "code",
   "execution_count": 6,
   "metadata": {},
   "outputs": [],
   "source": [
    "class MyPublicClass(object):\n",
    "    \"\"\"We use this as a public class example class.\n",
    "\n",
    "    You never call this class before calling :func:`public_fn_with_sphinxy_docstring`.\n",
    "\n",
    "    .. note::\n",
    "\n",
    "       An example of intersphinx is this: you **cannot** use :mod:`pickle` on this class.\n",
    "\n",
    "    \"\"\"\n",
    "\n",
    "    def __init__(self, foo, bar='baz'):\n",
    "        \"\"\"A really simple class.\n",
    "\n",
    "        Args:\n",
    "           foo (str): We all know what foo does.\n",
    "\n",
    "        Kwargs:\n",
    "           bar (str): Really, same as foo.\n",
    "\n",
    "        \"\"\"\n",
    "        self._foo = foo\n",
    "        self._bar = bar\n",
    "\n",
    "    def get_foobar(self, foo, bar=True):\n",
    "        \"\"\"This gets the foobar\n",
    "\n",
    "        This really should have a full function definition, but I am too lazy.\n",
    "\n",
    "        >>> print get_foobar(10, 20)\n",
    "        30\n",
    "        >>> print get_foobar('a', 'b')\n",
    "        ab\n",
    "\n",
    "        Isn't that what you want?\n",
    "\n",
    "        \"\"\"\n",
    "        return foo + bar\n",
    "\n",
    "    def _get_baz(self, baz=None):\n",
    "        \"\"\"A private function to get baz.\n",
    "\n",
    "        This really should have a full function definition, but I am too lazy.\n",
    "\n",
    "        \"\"\"\n",
    "        return baz"
   ]
  },
  {
   "cell_type": "code",
   "execution_count": 7,
   "metadata": {},
   "outputs": [],
   "source": [
    "# reST format"
   ]
  },
  {
   "cell_type": "code",
   "execution_count": 8,
   "metadata": {},
   "outputs": [],
   "source": [
    "def set_temperature(self, temp):\n",
    "    \"\"\"Set the temperature value.\n",
    "\n",
    "    The value of the temp parameter is stored as a value in\n",
    "    the class variable temperature. The given value is converted\n",
    "    into a float v`alue if not yet done.\n",
    "\n",
    "    :param temp: the temperature value\n",
    "    :type temp: float\n",
    "    :return: no value\n",
    "    :rtype: none\n",
    "    \"\"\"\n",
    "\n",
    "    self.temperature = float(temp)\n",
    "    return"
   ]
  },
  {
   "cell_type": "code",
   "execution_count": 9,
   "metadata": {},
   "outputs": [],
   "source": [
    "# Google format"
   ]
  },
  {
   "cell_type": "code",
   "execution_count": 10,
   "metadata": {},
   "outputs": [],
   "source": [
    "def set_temperature(self, temp):\n",
    "    \"\"\"Set the temperature value.\n",
    "\n",
    "    The value of the temp parameter is stored as a value in\n",
    "    the class variable temperature. The given value is converted\n",
    "    into a float value if not yet done.\n",
    "\n",
    "    Args:\n",
    "        temp (float): the temperature value\n",
    "\n",
    "    Returns:\n",
    "        no value\n",
    "    \"\"\"\n",
    "\n",
    "    self.temperature = float(temp)\n",
    "    return"
   ]
  },
  {
   "cell_type": "code",
   "execution_count": 11,
   "metadata": {},
   "outputs": [],
   "source": [
    "# NumPy format"
   ]
  },
  {
   "cell_type": "code",
   "execution_count": 12,
   "metadata": {},
   "outputs": [],
   "source": [
    "def set_temperature(self, temp):\n",
    "    \"\"\"Set the temperature value.\n",
    "\n",
    "    The value of the temp parameter is stored as a value in\n",
    "    the class variable temperature. The given value is converted\n",
    "    into a float value if not yet done.\n",
    "\n",
    "    Parameters\n",
    "    ----------\n",
    "    temp : float\n",
    "        the temperature value\n",
    "\n",
    "    Returns\n",
    "    -------\n",
    "    no value\n",
    "    \"\"\"\n",
    "\n",
    "    self.temperature = float(temp)\n",
    "    return"
   ]
  },
  {
   "cell_type": "code",
   "execution_count": 13,
   "metadata": {},
   "outputs": [],
   "source": [
    "if __name__ == '__main__':\n",
    "    main()"
   ]
  }
 ],
 "metadata": {
  "kernelspec": {
   "display_name": "Python 3",
   "language": "python",
   "name": "python3"
  },
  "language_info": {
   "codemirror_mode": {
    "name": "ipython",
    "version": 3
   },
   "file_extension": ".py",
   "mimetype": "text/x-python",
   "name": "python",
   "nbconvert_exporter": "python",
   "pygments_lexer": "ipython3",
   "version": "3.8.5"
  }
 },
 "nbformat": 4,
 "nbformat_minor": 4
}
