{
 "cells": [
  {
   "cell_type": "markdown",
   "metadata": {},
   "source": [
    "# Basic graphics for a single column of data"
   ]
  },
  {
   "cell_type": "markdown",
   "metadata": {},
   "source": [
    "# Document information"
   ]
  },
  {
   "cell_type": "markdown",
   "metadata": {},
   "source": [
    "<table align=\"left\">\n",
    "    <tr>\n",
    "        <th class=\"text-align:left\">Title</th>\n",
    "        <td class=\"text-align:left\">Basic graphics for a single-column data file</td>\n",
    "    </tr>\n",
    "    <tr>\n",
    "        <th class=\"text-align:left\">Last modified</th>\n",
    "        <td class=\"text-align:left\">2020-10-12</td>\n",
    "    </tr>\n",
    "    <tr>\n",
    "        <th class=\"text-align:left\">Author</th>\n",
    "        <td class=\"text-align:left\">Gilles Pilon <gillespilon13@gmail.com></td>\n",
    "    </tr>\n",
    "    <tr>\n",
    "        <th class=\"text-align:left\">Status</th>\n",
    "        <td class=\"text-align:left\">Active</td>\n",
    "    </tr>\n",
    "    <tr>\n",
    "        <th class=\"text-align:left\">Type</th>\n",
    "        <td class=\"text-align:left\">Jupyter notebook</td>\n",
    "    </tr>\n",
    "    <tr>\n",
    "        <th class=\"text-align:left\">Created</th>\n",
    "        <td class=\"text-align:left\">2018-06-22</td>\n",
    "    </tr>\n",
    "    <tr>\n",
    "        <th class=\"text-align:left\">File name</th>\n",
    "        <td class=\"text-align:left\">basic_graphics_single_column.ipynb</td>\n",
    "    </tr>\n",
    "    <tr>\n",
    "        <th class=\"text-align:left\">Other files required</th>\n",
    "        <td class=\"text-align:left\">basic_statistics_single_column_data.csv</td>\n",
    "    </tr>\n",
    "</table>"
   ]
  },
  {
   "cell_type": "markdown",
   "metadata": {},
   "source": [
    "# In brevi\n",
    "\n",
    "The purpose of this Jupyter notebook is to illustrate a basic notebook structure. The script reads a single-column file and calculates basic graphics. It progresses from quick-and-dirty code to pretty."
   ]
  },
  {
   "cell_type": "markdown",
   "metadata": {},
   "source": [
    "# Methodology\n",
    "\n",
    "A box plot is drawn using pandas.plot.box. A histogram is drawn using pandas.plot.hist. A scatter plot is drawn using pandas.plot.scatter. A regression line is estimated for the scatter plot using statsmodels.formula.api. A stem-and-leaf plot is drawn using stemgraphic.stem_graphic. A run chart is drawn using pandas.plot"
   ]
  },
  {
   "cell_type": "markdown",
   "metadata": {},
   "source": [
    "# Data\n",
    "\n",
    "Download the data file:\n",
    "\n",
    "- [basic_graphics_single_column_data.csv](https://drive.google.com/open?id=1N-5611OldWLD2hQwTDPOc1B0O_xxVoYO)"
   ]
  },
  {
   "cell_type": "markdown",
   "metadata": {},
   "source": [
    "# Import librairies and basic setup"
   ]
  },
  {
   "cell_type": "code",
   "execution_count": 2,
   "metadata": {},
   "outputs": [
    {
     "ename": "ModuleNotFoundError",
     "evalue": "No module named 'stemgraphic'",
     "output_type": "error",
     "traceback": [
      "\u001b[0;31m---------------------------------------------------------------------------\u001b[0m",
      "\u001b[0;31mModuleNotFoundError\u001b[0m                       Traceback (most recent call last)",
      "\u001b[0;32m<ipython-input-2-77c9e3b9abc1>\u001b[0m in \u001b[0;36m<module>\u001b[0;34m\u001b[0m\n\u001b[0;32m----> 1\u001b[0;31m \u001b[0;32mfrom\u001b[0m \u001b[0mstemgraphic\u001b[0m \u001b[0;32mimport\u001b[0m \u001b[0mstem_graphic\u001b[0m \u001b[0;32mas\u001b[0m \u001b[0mstg\u001b[0m\u001b[0;34m\u001b[0m\u001b[0;34m\u001b[0m\u001b[0m\n\u001b[0m\u001b[1;32m      2\u001b[0m \u001b[0;32mimport\u001b[0m \u001b[0mstatsmodels\u001b[0m\u001b[0;34m.\u001b[0m\u001b[0mformula\u001b[0m\u001b[0;34m.\u001b[0m\u001b[0mapi\u001b[0m \u001b[0;32mas\u001b[0m \u001b[0msmf\u001b[0m\u001b[0;34m\u001b[0m\u001b[0;34m\u001b[0m\u001b[0m\n\u001b[1;32m      3\u001b[0m \u001b[0;32mimport\u001b[0m \u001b[0mmatplotlib\u001b[0m\u001b[0;34m.\u001b[0m\u001b[0mpyplot\u001b[0m \u001b[0;32mas\u001b[0m \u001b[0mplt\u001b[0m\u001b[0;34m\u001b[0m\u001b[0;34m\u001b[0m\u001b[0m\n\u001b[1;32m      4\u001b[0m \u001b[0;32mimport\u001b[0m \u001b[0mpandas\u001b[0m \u001b[0;32mas\u001b[0m \u001b[0mpd\u001b[0m\u001b[0;34m\u001b[0m\u001b[0;34m\u001b[0m\u001b[0m\n\u001b[1;32m      5\u001b[0m \u001b[0;32mimport\u001b[0m \u001b[0mnumpy\u001b[0m \u001b[0;32mas\u001b[0m \u001b[0mnp\u001b[0m\u001b[0;34m\u001b[0m\u001b[0;34m\u001b[0m\u001b[0m\n",
      "\u001b[0;31mModuleNotFoundError\u001b[0m: No module named 'stemgraphic'"
     ]
    }
   ],
   "source": [
    "from stemgraphic import stem_graphic as stg\n",
    "import statsmodels.formula.api as smf\n",
    "import matplotlib.pyplot as plt\n",
    "import pandas as pd\n",
    "import numpy as np"
   ]
  },
  {
   "cell_type": "code",
   "execution_count": null,
   "metadata": {},
   "outputs": [],
   "source": [
    "%matplotlib inline\n",
    "colour1 = '#0077bb'\n",
    "colour2 = '#33bbee'"
   ]
  },
  {
   "cell_type": "code",
   "execution_count": null,
   "metadata": {},
   "outputs": [],
   "source": [
    "def despine(ax: axes.Axes) -> None:\n",
    "    \"\"\"\n",
    "    Remove the top and right spines of a graph.\n",
    "\n",
    "    Parameters\n",
    "    ----------\n",
    "    ax : axes.Axes\n",
    "\n",
    "    Example\n",
    "    -------\n",
    "    >>> despine(ax)\n",
    "    \"\"\"\n",
    "    for spine in 'right', 'top':\n",
    "        ax.spines[spine].set_visible(False)"
   ]
  },
  {
   "cell_type": "markdown",
   "metadata": {},
   "source": [
    "# Read the data file\n",
    "\n",
    "The data file has one column labelled \"y\". It is saved as a CSV format with UTF-8 encoding."
   ]
  },
  {
   "cell_type": "code",
   "execution_count": null,
   "metadata": {},
   "outputs": [],
   "source": [
    "# Read the data file and save it to a dataframe called \"df\".\n",
    "df = pd.read_csv('basic_graphics_single_column_data.csv')"
   ]
  },
  {
   "cell_type": "code",
   "execution_count": null,
   "metadata": {},
   "outputs": [],
   "source": [
    "# View the first five rows of data.\n",
    "df.head(5)"
   ]
  },
  {
   "cell_type": "code",
   "execution_count": null,
   "metadata": {},
   "outputs": [],
   "source": [
    "# View the last five rows of data.\n",
    "df.tail(5)"
   ]
  },
  {
   "cell_type": "markdown",
   "metadata": {},
   "source": [
    "# Perform the analysis"
   ]
  },
  {
   "cell_type": "markdown",
   "metadata": {},
   "source": [
    "## Box plot"
   ]
  },
  {
   "cell_type": "code",
   "execution_count": null,
   "metadata": {},
   "outputs": [],
   "source": [
    "# Create a box plot.\n",
    "df['y'].plot.box()"
   ]
  },
  {
   "cell_type": "code",
   "execution_count": null,
   "metadata": {},
   "outputs": [],
   "source": [
    "# The horizontal lines, from top to bottom, are:\n",
    "# - Maximum\n",
    "# - Third quartile\n",
    "# - Median\n",
    "# - First quartile\n",
    "# - Minimum"
   ]
  },
  {
   "cell_type": "code",
   "execution_count": null,
   "metadata": {},
   "outputs": [],
   "source": [
    "# Add the 95 % confidence interval of the median.\n",
    "df['y'].plot.box(notch=True)"
   ]
  },
  {
   "cell_type": "code",
   "execution_count": null,
   "metadata": {},
   "outputs": [],
   "source": [
    "# Add the average.\n",
    "df['y'].plot.box(notch=True, showmeans=True)"
   ]
  },
  {
   "cell_type": "code",
   "execution_count": null,
   "metadata": {},
   "outputs": [],
   "source": [
    "# Print the statistics of the box plot.\n",
    "print('Maximum',\n",
    "      df['y'].max(),\n",
    "      sep=\" = \")\n",
    "print('Third quartile',\n",
    "      df['y'].quantile(.75),\n",
    "      sep=\" = \")\n",
    "print('Median',\n",
    "      df['y'].median(),\n",
    "      sep=\" = \")\n",
    "print('Average',\n",
    "      df['y'].mean(),\n",
    "      sep=\" = \")\n",
    "print('First quartile',\n",
    "      df['y'].quantile(.25),\n",
    "      sep=\" = \")\n",
    "print('Minimum',\n",
    "      df['y'].min(),sep=\" = \")\n",
    "print('Upper confidence value',\n",
    "      df['y'].median() + 1.57 * (df['y'].quantile(.75) - df['y'].quantile(.25))\\\n",
    "          /np.sqrt(df['y'].count()),\n",
    "      sep=\" = \")\n",
    "print('Lower confidence value',\n",
    "      df['y'].median() - 1.57 * (df['y'].quantile(.75) - df['y'].quantile(.25))\\\n",
    "          /np.sqrt(df['y'].count()),\n",
    "      sep=\" = \")"
   ]
  },
  {
   "cell_type": "code",
   "execution_count": null,
   "metadata": {},
   "outputs": [],
   "source": [
    "df['y'].max()"
   ]
  },
  {
   "cell_type": "code",
   "execution_count": null,
   "metadata": {},
   "outputs": [],
   "source": [
    "# Make a pretty graph.\n",
    "title = 'Box plot of y'\n",
    "subtitle = 'Pretty graph'\n",
    "yaxislabel = 'Response y (units)'\n",
    "ax = df['y'].plot.box(notch=True, showmeans=True)\n",
    "ax.set_title(title + '\\n' + subtitle, fontweight='bold', fontsize=13)\n",
    "ax.set_ylabel(yaxislabel)\n",
    "despine(ax)"
   ]
  },
  {
   "cell_type": "markdown",
   "metadata": {},
   "source": [
    "## Histogram"
   ]
  },
  {
   "cell_type": "code",
   "execution_count": null,
   "metadata": {},
   "outputs": [],
   "source": [
    "# Create a histogram.\n",
    "df['y'].plot.hist()"
   ]
  },
  {
   "cell_type": "code",
   "execution_count": null,
   "metadata": {},
   "outputs": [],
   "source": [
    "# Change the number of bins.\n",
    "df['y'].plot.hist(bins=15)"
   ]
  },
  {
   "cell_type": "code",
   "execution_count": null,
   "metadata": {},
   "outputs": [],
   "source": [
    "# Make a pretty graph.\n",
    "title = 'histogram of y'\n",
    "subtitle = 'Pretty graph'\n",
    "yaxislabel = 'Count'\n",
    "xaxislabel = 'Response y (units)'\n",
    "ax = df['y'].plot.hist(edgecolor='white', linewidth=.5, color=colour1)\n",
    "ax.set_title(title + '\\n' + subtitle, fontweight='bold', fontsize=13)\n",
    "ax.set_ylabel(yaxislabel)\n",
    "ax.set_xlabel(xaxislabel)\n",
    "for spine in 'right', 'top':\n",
    "    ax.spines[spine].set_visible(False)"
   ]
  },
  {
   "cell_type": "markdown",
   "metadata": {},
   "source": [
    "# Scatter plot"
   ]
  },
  {
   "cell_type": "code",
   "execution_count": null,
   "metadata": {},
   "outputs": [],
   "source": [
    "# Create a scatter plot, assuming data are in time order.\n",
    "df['x'] = df.index\n",
    "df.plot.scatter(x='x', y='y')"
   ]
  },
  {
   "cell_type": "code",
   "execution_count": null,
   "metadata": {},
   "outputs": [],
   "source": [
    "# Perform a linear regression.\n",
    "lm = smf.ols(formula='y ~ x', data=df).fit()\n",
    "lm.params"
   ]
  },
  {
   "cell_type": "code",
   "execution_count": null,
   "metadata": {},
   "outputs": [],
   "source": [
    "# Create a dataframe with the minimum and maximum values of 'x'.\n",
    "x_min_max = pd.DataFrame({'x': [df['x'].min(), df['x'].max()]})\n",
    "x_min_max"
   ]
  },
  {
   "cell_type": "code",
   "execution_count": null,
   "metadata": {},
   "outputs": [],
   "source": [
    "# Estimate 'y' for these 'x' values and store them in 'estimates'.\n",
    "y_estimates = lm.predict(x_min_max)\n",
    "y_estimates"
   ]
  },
  {
   "cell_type": "code",
   "execution_count": null,
   "metadata": {
    "scrolled": false
   },
   "outputs": [],
   "source": [
    "# Plot the linear regression line. Clean it up.\n",
    "title = 'Scatter plot of y'\n",
    "subtitle = 'Pretty graph'\n",
    "yaxislabel = 'Response y (units)'\n",
    "xaxislabel = 'Order of sampling'\n",
    "ax = plt.subplot(111)\n",
    "df.plot.scatter(x='x', y='y', color=colour1, s=3, ax=ax)\n",
    "plt.plot(x_min_max, y_estimates, color=colour2)\n",
    "ax.set_title(title + '\\n' + subtitle, fontweight='bold', fontsize=13)\n",
    "ax.set_ylabel(yaxislabel)\n",
    "ax.set_xlabel(xaxislabel)\n",
    "despine(ax)"
   ]
  },
  {
   "cell_type": "markdown",
   "metadata": {},
   "source": [
    "# Stem-and-leaf plot"
   ]
  },
  {
   "cell_type": "code",
   "execution_count": null,
   "metadata": {},
   "outputs": [],
   "source": [
    "stg(df['y'])"
   ]
  },
  {
   "cell_type": "markdown",
   "metadata": {},
   "source": [
    "# Run chart"
   ]
  },
  {
   "cell_type": "code",
   "execution_count": null,
   "metadata": {},
   "outputs": [],
   "source": [
    "# Plot a run chart, using the index for x.\n",
    "df['y'].plot()"
   ]
  },
  {
   "cell_type": "code",
   "execution_count": null,
   "metadata": {},
   "outputs": [],
   "source": [
    "# Add markers that are circles and of a certain size.\n",
    "df['y'].plot(marker='o', markersize=5)"
   ]
  },
  {
   "cell_type": "code",
   "execution_count": null,
   "metadata": {},
   "outputs": [],
   "source": [
    "# Clean it up. Add a red line for the average.\n",
    "title = 'Run chart of y'\n",
    "subtitle = 'Pretty graph'\n",
    "yaxislabel = 'Response y (units)'\n",
    "xaxislabel = 'Order of sampling'\n",
    "ax = df['y'].plot(marker='o', markersize=5, color=cour1, legend=False)\n",
    "ax.axhline(y=df['y'].mean(), color=colour2)\n",
    "ax.set_title(title + '\\n' + subtitle, fontweight='bold', fontsize=13)\n",
    "ax.set_ylabel(yaxislabel)\n",
    "ax.set_xlabel(xaxislabel)\n",
    "despine(ax)"
   ]
  },
  {
   "cell_type": "markdown",
   "metadata": {},
   "source": [
    "# References\n",
    "\n",
    "- [matplotlib](https://matplotlib.org/api/pyplot_api.html)\n",
    "- [numpy](https://docs.scipy.org/doc/numpy/reference/)\n",
    "- [pandas API](https://pandas.pydata.org/pandas-docs/stable/api.html)\n",
    "- [statsmodels](http://www.statsmodels.org/dev/example_formulas.html)\n",
    "- [stemgraphic](http://stemgraphic.org/doc/index.html)\n",
    "\n",
    "McGill, Robert, John W. Tukey, and Wayne A. Larsen. 1978. \"Variations of Box Plots.\" *The American Statistician 21 (February 1978), no. 1; 12-16. [https://www.jstor.org/stable/2683468](https://www.jstor.org/stable/2683468)"
   ]
  }
 ],
 "metadata": {
  "kernelspec": {
   "display_name": "Python 3",
   "language": "python",
   "name": "python3"
  },
  "language_info": {
   "codemirror_mode": {
    "name": "ipython",
    "version": 3
   },
   "file_extension": ".py",
   "mimetype": "text/x-python",
   "name": "python",
   "nbconvert_exporter": "python",
   "pygments_lexer": "ipython3",
   "version": "3.8.6"
  },
  "varInspector": {
   "cols": {
    "lenName": 16,
    "lenType": 16,
    "lenVar": 40
   },
   "kernels_config": {
    "python": {
     "delete_cmd_postfix": "",
     "delete_cmd_prefix": "del ",
     "library": "var_list.py",
     "varRefreshCmd": "print(var_dic_list())"
    },
    "r": {
     "delete_cmd_postfix": ") ",
     "delete_cmd_prefix": "rm(",
     "library": "var_list.r",
     "varRefreshCmd": "cat(var_dic_list()) "
    }
   },
   "types_to_exclude": [
    "module",
    "function",
    "builtin_function_or_method",
    "instance",
    "_Feature"
   ],
   "window_display": false
  }
 },
 "nbformat": 4,
 "nbformat_minor": 2
}
