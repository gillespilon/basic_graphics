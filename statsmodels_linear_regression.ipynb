{
 "cells": [
  {
   "cell_type": "markdown",
   "metadata": {},
   "source": [
    "# Linear regression with statsmodels\n",
    "\n",
    "Demonstrate linear regression with statsmodels."
   ]
  },
  {
   "cell_type": "code",
   "execution_count": 1,
   "metadata": {},
   "outputs": [],
   "source": [
    "import matplotlib.pyplot as plt\n",
    "import statsmodels.api as sm\n",
    "import datasense as ds\n",
    "import pandas as pd"
   ]
  },
  {
   "cell_type": "code",
   "execution_count": 2,
   "metadata": {},
   "outputs": [],
   "source": [
    "def main():\n",
    "    %matplotlib inline\n",
    "    %config InlineBackend.figure_format = 'svg'\n",
    "    output_url = 'statsmodels_linear_regression.html'\n",
    "    header_title = 'Statsmodels linear regression'\n",
    "    header_id = 'statsmodels-linear-regression'\n",
    "    original_stdout = ds.html_begin(\n",
    "        output_url=output_url,\n",
    "        header_title=header_title,\n",
    "        header_id=header_id\n",
    "    )\n",
    "    print('<pre style=\"white-space: pre-wrap;\">')\n",
    "    df = pd.DataFrame(\n",
    "        {\n",
    "            'x': ds.random_data(),\n",
    "            'y': ds.random_data()\n",
    "        }\n",
    "    )\n",
    "    x = sm.add_constant(df['x'])\n",
    "    y = df['y']\n",
    "    model = sm.OLS(\n",
    "        endog=y,\n",
    "        exog=x,\n",
    "        missing='drop'\n",
    "    )\n",
    "    results = model.fit()\n",
    "    df['predicted'] = results.predict(x)\n",
    "    print(results.summary())\n",
    "    print('</pre>')\n",
    "    fig = plt.figure(figsize=(8, 6))\n",
    "    ax = fig.add_subplot(111)\n",
    "    ax.plot(\n",
    "        df['x'],\n",
    "        df['y'],\n",
    "        marker='.',\n",
    "        linestyle='None',\n",
    "        color='#0077bb'\n",
    "    )\n",
    "    ax.plot(\n",
    "        df['x'],\n",
    "        df['predicted'],\n",
    "        marker='None',\n",
    "        linestyle='-',\n",
    "        color='#cc3311'\n",
    "    )\n",
    "    ax.set_title(\n",
    "        label='Regression analysis',\n",
    "        fontsize=15,\n",
    "        \n",
    "    )\n",
    "    ax.set_xlabel(\n",
    "        xlabel='X axis label',\n",
    "        fontsize=12,\n",
    "        \n",
    "    )\n",
    "    ax.set_ylabel(\n",
    "        ylabel='Y axis label',\n",
    "        fontsize=12,\n",
    "        \n",
    "    )\n",
    "    fig.savefig(\n",
    "        fname='y_vs_x.svg',\n",
    "        format='svg'\n",
    "    )\n",
    "    plt.close()\n",
    "    ds.html_figure(file_name='y_vs_x.svg')\n",
    "    ds.html_end(\n",
    "        original_stdout=original_stdout,\n",
    "        output_url=output_url\n",
    "    )"
   ]
  },
  {
   "cell_type": "code",
   "execution_count": 3,
   "metadata": {},
   "outputs": [],
   "source": [
    "if __name__ == '__main__':\n",
    "    main()"
   ]
  }
 ],
 "metadata": {
  "kernelspec": {
   "display_name": "Python 3",
   "language": "python",
   "name": "python3"
  },
  "language_info": {
   "codemirror_mode": {
    "name": "ipython",
    "version": 3
   },
   "file_extension": ".py",
   "mimetype": "text/x-python",
   "name": "python",
   "nbconvert_exporter": "python",
   "pygments_lexer": "ipython3",
   "version": "3.8.6"
  }
 },
 "nbformat": 4,
 "nbformat_minor": 4
}
